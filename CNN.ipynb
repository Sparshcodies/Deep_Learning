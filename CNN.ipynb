{
  "nbformat": 4,
  "nbformat_minor": 0,
  "metadata": {
    "colab": {
      "provenance": []
    },
    "kernelspec": {
      "name": "python3",
      "display_name": "Python 3"
    },
    "language_info": {
      "name": "python"
    },
    "accelerator": "TPU"
  },
  "cells": [
    {
      "cell_type": "markdown",
      "source": [
        "# **Practical 6**"
      ],
      "metadata": {
        "id": "3cngU4PLEoaE"
      }
    },
    {
      "cell_type": "markdown",
      "source": [
        "# **CNN Implementation with Tensorflow & Keras**"
      ],
      "metadata": {
        "id": "jspGboj0ExJB"
      }
    },
    {
      "cell_type": "code",
      "execution_count": null,
      "metadata": {
        "id": "O7bpB0GQy2wA"
      },
      "outputs": [],
      "source": [
        "import tensorflow as tf\n",
        "from tensorflow import keras\n",
        "import cv2\n",
        "import numpy as np\n",
        "import matplotlib.pyplot as plt\n",
        "from google.colab.patches import cv2_imshow\n",
        "from sklearn.metrics import classification_report"
      ]
    },
    {
      "cell_type": "code",
      "source": [
        "data=keras.datasets.cifar10.load_data()"
      ],
      "metadata": {
        "id": "IPV0wLJIzjFk",
        "colab": {
          "base_uri": "https://localhost:8080/"
        },
        "outputId": "33ef2bba-8951-4224-dee2-08e1bbfa3b03"
      },
      "execution_count": null,
      "outputs": [
        {
          "output_type": "stream",
          "name": "stdout",
          "text": [
            "Downloading data from https://www.cs.toronto.edu/~kriz/cifar-10-python.tar.gz\n",
            "170498071/170498071 [==============================] - 3s 0us/step\n"
          ]
        }
      ]
    },
    {
      "cell_type": "code",
      "source": [
        "type(data[1][1])"
      ],
      "metadata": {
        "colab": {
          "base_uri": "https://localhost:8080/"
        },
        "id": "J3lKEv_Ez69R",
        "outputId": "72a9eb0d-9af7-4329-b518-2aaa443d08b7"
      },
      "execution_count": null,
      "outputs": [
        {
          "output_type": "execute_result",
          "data": {
            "text/plain": [
              "numpy.ndarray"
            ]
          },
          "metadata": {},
          "execution_count": 3
        }
      ]
    },
    {
      "cell_type": "code",
      "source": [
        "(X_train, y_train),(X_test, y_test)=data"
      ],
      "metadata": {
        "id": "XPmm7SMDz_p3"
      },
      "execution_count": null,
      "outputs": []
    },
    {
      "cell_type": "code",
      "source": [
        "X_train.shape, y_train.shape, X_test.shape, y_test.shape"
      ],
      "metadata": {
        "colab": {
          "base_uri": "https://localhost:8080/"
        },
        "id": "bG9_1ZKQ0GoD",
        "outputId": "7d7ea47f-5df3-41cc-c63b-5d0bd2410443"
      },
      "execution_count": null,
      "outputs": [
        {
          "output_type": "execute_result",
          "data": {
            "text/plain": [
              "((50000, 32, 32, 3), (50000, 1), (10000, 32, 32, 3), (10000, 1))"
            ]
          },
          "metadata": {},
          "execution_count": 5
        }
      ]
    },
    {
      "cell_type": "code",
      "source": [
        "y_train[:5]"
      ],
      "metadata": {
        "colab": {
          "base_uri": "https://localhost:8080/"
        },
        "id": "Gsgi-3Hm2Tzr",
        "outputId": "a3fae2fa-ff29-4b36-8a1a-8bf30c393f01"
      },
      "execution_count": null,
      "outputs": [
        {
          "output_type": "execute_result",
          "data": {
            "text/plain": [
              "array([[6],\n",
              "       [9],\n",
              "       [9],\n",
              "       [4],\n",
              "       [1]], dtype=uint8)"
            ]
          },
          "metadata": {},
          "execution_count": 6
        }
      ]
    },
    {
      "cell_type": "code",
      "source": [
        "y_train=y_train.reshape(-1,)\n",
        "y_test=y_test.reshape(-1,)"
      ],
      "metadata": {
        "id": "6z6Z5-282YV7"
      },
      "execution_count": null,
      "outputs": []
    },
    {
      "cell_type": "code",
      "source": [
        "y_train[:5]"
      ],
      "metadata": {
        "colab": {
          "base_uri": "https://localhost:8080/"
        },
        "id": "ZbxSBjLe2mIz",
        "outputId": "97ea5301-e0c9-4157-ebda-fe591342c613"
      },
      "execution_count": null,
      "outputs": [
        {
          "output_type": "execute_result",
          "data": {
            "text/plain": [
              "array([6, 9, 9, 4, 1], dtype=uint8)"
            ]
          },
          "metadata": {},
          "execution_count": 8
        }
      ]
    },
    {
      "cell_type": "code",
      "source": [
        "cv2_imshow(X_train[0])"
      ],
      "metadata": {
        "colab": {
          "base_uri": "https://localhost:8080/",
          "height": 49
        },
        "id": "t2o-XCLc0Oem",
        "outputId": "98b92202-412b-410a-dc47-8d32ff549b74"
      },
      "execution_count": null,
      "outputs": [
        {
          "output_type": "display_data",
          "data": {
            "text/plain": [
              "<PIL.Image.Image image mode=RGB size=32x32>"
            ],
            "image/png": "[encoded data removed]"
          },
          "metadata": {}
        }
      ]
    },
    {
      "cell_type": "code",
      "source": [],
      "metadata": {
        "id": "7JGl_24Y2S2o"
      },
      "execution_count": null,
      "outputs": []
    },
    {
      "cell_type": "code",
      "source": [
        "plt.imshow(X_train[5])"
      ],
      "metadata": {
        "colab": {
          "base_uri": "https://localhost:8080/",
          "height": 447
        },
        "id": "DF-zyo-Y0USS",
        "outputId": "fd2a5478-0571-456d-caad-c4d235e31c1b"
      },
      "execution_count": null,
      "outputs": [
        {
          "output_type": "execute_result",
          "data": {
            "text/plain": [
              "<matplotlib.image.AxesImage at 0x784d8baa7820>"
            ]
          },
          "metadata": {},
          "execution_count": 10
        },
        {
          "output_type": "display_data",
          "data": {
            "text/plain": [
              "<Figure size 640x480 with 1 Axes>"
            ],
            "image/png": "[encoded data removed]"
          },
          "metadata": {}
        }
      ]
    },
    {
      "cell_type": "code",
      "source": [
        "classes=[\"airplane\",\"automobile\",\"bird\",\"cat\",\"deer\",\"dog\",\"frog\",\"horse\",\"ship\",\"truck\"]"
      ],
      "metadata": {
        "id": "0cf34hwX4LQe"
      },
      "execution_count": null,
      "outputs": []
    },
    {
      "cell_type": "code",
      "source": [
        "def display_image(X,y,index):\n",
        "  plt.figure(figsize=(2,2))\n",
        "  plt.imshow(X[index])\n",
        "  plt.xlabel(classes[y[index]])"
      ],
      "metadata": {
        "id": "MT0ccEW71yXa"
      },
      "execution_count": null,
      "outputs": []
    },
    {
      "cell_type": "code",
      "source": [
        "display_image(X_train,y_train,1)"
      ],
      "metadata": {
        "colab": {
          "base_uri": "https://localhost:8080/",
          "height": 237
        },
        "id": "_9lGiWv-3o0K",
        "outputId": "3c49f895-0f94-4988-b5af-31d6881201d8"
      },
      "execution_count": null,
      "outputs": [
        {
          "output_type": "display_data",
          "data": {
            "text/plain": [
              "<Figure size 200x200 with 1 Axes>"
            ],
            "image/png": "[encoded data removed]"
          },
          "metadata": {}
        }
      ]
    },
    {
      "cell_type": "code",
      "source": [
        "X_train=X_train/255\n",
        "X_test=X_test/255"
      ],
      "metadata": {
        "id": "Cpunjeox5IWA"
      },
      "execution_count": null,
      "outputs": []
    },
    {
      "cell_type": "code",
      "source": [],
      "metadata": {
        "id": "gfm783Ed_L-D"
      },
      "execution_count": null,
      "outputs": []
    },
    {
      "cell_type": "code",
      "source": [
        "X_train.shape"
      ],
      "metadata": {
        "colab": {
          "base_uri": "https://localhost:8080/"
        },
        "id": "xTi25fy0_Zt3",
        "outputId": "a918a115-fb5b-4d71-b43a-6fbb88e48963"
      },
      "execution_count": null,
      "outputs": [
        {
          "output_type": "execute_result",
          "data": {
            "text/plain": [
              "(50000, 32, 32, 3)"
            ]
          },
          "metadata": {},
          "execution_count": 15
        }
      ]
    },
    {
      "cell_type": "markdown",
      "source": [
        "ANN"
      ],
      "metadata": {
        "id": "9U2_BP0Mtj31"
      }
    },
    {
      "cell_type": "code",
      "source": [
        "ann_model=keras.Sequential([\n",
        "                            #ANN\n",
        "                            keras.layers.Flatten(input_shape=(32,32,3)),\n",
        "                            keras.layers.Dense(1000,activation=\"relu\"),\n",
        "                            keras.layers.Dense(1000,activation=\"relu\"),\n",
        "                            keras.layers.Dense(100,activation=\"sigmoid\"),\n",
        "                            ])\n",
        "ann_model.compile(optimizer=\"adam\",\n",
        "              loss=\"SparseCategoricalCrossentropy\",\n",
        "              metrics=[\"accuracy\"])\n",
        "ann_model.fit(X_train,y_train,epochs=10)"
      ],
      "metadata": {
        "colab": {
          "base_uri": "https://localhost:8080/"
        },
        "id": "mwxqEQIbs5vw",
        "outputId": "3b9388e4-8e29-4a39-8b80-bda6a7eba487"
      },
      "execution_count": null,
      "outputs": [
        {
          "output_type": "stream",
          "name": "stdout",
          "text": [
            "Epoch 1/10\n",
            "1563/1563 [==============================] - 98s 62ms/step - loss: 1.8635 - accuracy: 0.3288\n",
            "Epoch 2/10\n",
            "1563/1563 [==============================] - 94s 60ms/step - loss: 1.6680 - accuracy: 0.4006\n",
            "Epoch 3/10\n",
            "1563/1563 [==============================] - 91s 58ms/step - loss: 1.5832 - accuracy: 0.4330\n",
            "Epoch 4/10\n",
            "1563/1563 [==============================] - 92s 59ms/step - loss: 1.5355 - accuracy: 0.4477\n",
            "Epoch 5/10\n",
            "1563/1563 [==============================] - 100s 64ms/step - loss: 1.5017 - accuracy: 0.4645\n",
            "Epoch 6/10\n",
            "1563/1563 [==============================] - 108s 69ms/step - loss: 1.4674 - accuracy: 0.4747\n",
            "Epoch 7/10\n",
            "1563/1563 [==============================] - 91s 58ms/step - loss: 1.4472 - accuracy: 0.4815\n",
            "Epoch 8/10\n",
            "1563/1563 [==============================] - 96s 61ms/step - loss: 1.4188 - accuracy: 0.4924\n",
            "Epoch 9/10\n",
            "1563/1563 [==============================] - 92s 59ms/step - loss: 1.3982 - accuracy: 0.4977\n",
            "Epoch 10/10\n",
            "1563/1563 [==============================] - 94s 60ms/step - loss: 1.3776 - accuracy: 0.5070\n"
          ]
        },
        {
          "output_type": "execute_result",
          "data": {
            "text/plain": [
              "<keras.callbacks.History at 0x784d803f1f60>"
            ]
          },
          "metadata": {},
          "execution_count": 16
        }
      ]
    },
    {
      "cell_type": "code",
      "source": [
        "ann_model.evaluate(X_test,y_test)"
      ],
      "metadata": {
        "colab": {
          "base_uri": "https://localhost:8080/"
        },
        "id": "gkCL2bhJtnRO",
        "outputId": "32162034-55b4-463e-cfa6-854712effed8"
      },
      "execution_count": null,
      "outputs": [
        {
          "output_type": "stream",
          "name": "stdout",
          "text": [
            "313/313 [==============================] - 5s 15ms/step - loss: 1.4548 - accuracy: 0.4812\n"
          ]
        },
        {
          "output_type": "execute_result",
          "data": {
            "text/plain": [
              "[1.4548438787460327, 0.4812000095844269]"
            ]
          },
          "metadata": {},
          "execution_count": 17
        }
      ]
    },
    {
      "cell_type": "code",
      "source": [
        "y_pred=ann_model.predict(X_test)\n",
        "print(y_pred[0])\n",
        "y_pred_classes=[np.argmax(i) for i in y_pred]\n",
        "print(y_pred_classes[0])\n",
        "print(classification_report)"
      ],
      "metadata": {
        "colab": {
          "base_uri": "https://localhost:8080/"
        },
        "id": "gt_15N2mtpo3",
        "outputId": "be703812-20e2-4971-a41b-d5393f40834e"
      },
      "execution_count": null,
      "outputs": [
        {
          "output_type": "stream",
          "name": "stdout",
          "text": [
            "313/313 [==============================] - 4s 11ms/step\n",
            "[4.1550243e-01 3.0329856e-01 3.9775202e-01 7.3530829e-01 6.5288752e-01\n",
            " 6.3541991e-01 5.0959378e-01 1.6284077e-01 4.2754042e-01 1.5099335e-01\n",
            " 4.0994511e-10 3.5807166e-10 2.0145316e-10 1.6319590e-10 5.2593335e-10\n",
            " 6.5788397e-10 2.5881311e-10 4.7830551e-10 4.0206205e-10 5.1624316e-10\n",
            " 2.1924916e-10 6.6955569e-10 6.1141442e-10 3.3495842e-10 6.0599481e-10\n",
            " 4.5442958e-10 3.4603109e-10 2.8743288e-10 2.7481498e-10 2.6262623e-10\n",
            " 4.0000292e-10 3.7585327e-10 4.1775158e-10 3.4200623e-10 4.1049827e-10\n",
            " 4.5181606e-10 2.0301381e-10 2.6117905e-10 5.6893318e-10 4.4125884e-10\n",
            " 4.6750365e-10 2.0785867e-10 4.5889872e-10 3.3039432e-10 6.8955247e-10\n",
            " 4.3810897e-10 3.2141570e-10 5.6091454e-10 3.3235428e-10 2.9475247e-10\n",
            " 2.6074551e-10 2.9325803e-10 1.7717314e-10 3.3642852e-10 3.2268105e-10\n",
            " 3.1724420e-10 6.1556837e-10 4.0040291e-10 2.4061769e-10 3.5175995e-10\n",
            " 4.3971463e-10 3.5464598e-10 1.8826316e-09 2.2435948e-10 2.9124350e-10\n",
            " 2.5975919e-10 4.6305931e-10 5.7009547e-10 3.9521986e-10 4.2017126e-10\n",
            " 3.5718012e-10 3.3114192e-10 5.2261545e-10 3.2159905e-10 3.3705475e-10\n",
            " 2.2775401e-10 4.2398152e-10 3.6826317e-10 3.4689876e-10 3.6295578e-10\n",
            " 2.1456728e-10 4.5179538e-10 3.4383829e-10 5.4710952e-10 3.4837475e-10\n",
            " 5.6711197e-10 5.5352384e-10 2.4933386e-10 4.4492077e-10 4.2507545e-10\n",
            " 4.3899143e-10 4.4802562e-10 3.8165707e-10 4.1545359e-10 2.1378377e-10\n",
            " 3.9290865e-10 3.8204381e-10 4.1813342e-10 3.7462297e-10 6.7467321e-10]\n",
            "3\n",
            "<function classification_report at 0x784d8bde8310>\n"
          ]
        }
      ]
    },
    {
      "cell_type": "code",
      "source": [
        "y_train.shape"
      ],
      "metadata": {
        "colab": {
          "base_uri": "https://localhost:8080/"
        },
        "id": "wdmygRFaHEgs",
        "outputId": "3e615e81-5aa2-469f-e683-a32f3732a6ab"
      },
      "execution_count": null,
      "outputs": [
        {
          "output_type": "execute_result",
          "data": {
            "text/plain": [
              "(50000,)"
            ]
          },
          "metadata": {},
          "execution_count": 21
        }
      ]
    },
    {
      "cell_type": "code",
      "source": [
        "y_test.shape"
      ],
      "metadata": {
        "colab": {
          "base_uri": "https://localhost:8080/"
        },
        "id": "geKEZYQtHHLJ",
        "outputId": "157a13d3-4f28-4d81-8ac7-05b6316db822"
      },
      "execution_count": null,
      "outputs": [
        {
          "output_type": "execute_result",
          "data": {
            "text/plain": [
              "(10000,)"
            ]
          },
          "metadata": {},
          "execution_count": 22
        }
      ]
    },
    {
      "cell_type": "code",
      "source": [
        "X_test.shape"
      ],
      "metadata": {
        "colab": {
          "base_uri": "https://localhost:8080/"
        },
        "id": "POebYaKaHMMI",
        "outputId": "ce14926f-24fd-4e29-846b-f36db2772b1b"
      },
      "execution_count": null,
      "outputs": [
        {
          "output_type": "execute_result",
          "data": {
            "text/plain": [
              "(10000, 32, 32, 3)"
            ]
          },
          "metadata": {},
          "execution_count": 24
        }
      ]
    },
    {
      "cell_type": "code",
      "source": [
        "X_train.shape"
      ],
      "metadata": {
        "colab": {
          "base_uri": "https://localhost:8080/"
        },
        "id": "g0cGsTrmHQf-",
        "outputId": "045aa80e-1227-4197-cae5-5c4cf4ca4619"
      },
      "execution_count": null,
      "outputs": [
        {
          "output_type": "execute_result",
          "data": {
            "text/plain": [
              "(50000, 32, 32, 3)"
            ]
          },
          "metadata": {},
          "execution_count": 25
        }
      ]
    },
    {
      "cell_type": "markdown",
      "source": [
        "CNN"
      ],
      "metadata": {
        "id": "JK9OGyH6teVu"
      }
    },
    {
      "cell_type": "code",
      "source": [
        "cnn_model=keras.Sequential([keras.layers.Conv2D(filters=32, kernel_size=(3,3), activation=\"relu\", input_shape=(32,32,3)),\n",
        "                            keras.layers.MaxPooling2D((2,2)),\n",
        "                            keras.layers.Flatten(),\n",
        "                            ])\n",
        "cnn_model.compile(optimizer=\"adam\",\n",
        "              loss=\"SparseCategoricalCrossentropy\",\n",
        "              metrics=[\"accuracy\"])\n",
        "cnn_model.fit(X_train,y_train,epochs=10)"
      ],
      "metadata": {
        "colab": {
          "base_uri": "https://localhost:8080/"
        },
        "id": "KKfvezxX5Ylw",
        "outputId": "448bd1b2-e86a-4a61-d974-9f4a698a8a18"
      },
      "execution_count": null,
      "outputs": [
        {
          "output_type": "stream",
          "name": "stdout",
          "text": [
            "Epoch 1/10\n",
            "1563/1563 [==============================] - 46s 29ms/step - loss: 12.8891 - accuracy: 9.6000e-04\n",
            "Epoch 2/10\n",
            "1563/1563 [==============================] - 44s 28ms/step - loss: 12.8497 - accuracy: 7.0000e-04\n",
            "Epoch 3/10\n",
            "1563/1563 [==============================] - 46s 30ms/step - loss: 12.6721 - accuracy: 0.0101\n",
            "Epoch 4/10\n",
            "1563/1563 [==============================] - 43s 27ms/step - loss: 8.8833 - accuracy: 0.0999\n",
            "Epoch 5/10\n",
            "1563/1563 [==============================] - 44s 28ms/step - loss: 8.8822 - accuracy: 0.1000\n",
            "Epoch 6/10\n",
            "1563/1563 [==============================] - 44s 28ms/step - loss: 8.8821 - accuracy: 0.1000\n",
            "Epoch 7/10\n",
            "1563/1563 [==============================] - 43s 27ms/step - loss: 8.8821 - accuracy: 0.1000\n",
            "Epoch 8/10\n",
            "1563/1563 [==============================] - 43s 27ms/step - loss: 8.8819 - accuracy: 0.1000\n",
            "Epoch 9/10\n",
            "1563/1563 [==============================] - 44s 28ms/step - loss: 8.8818 - accuracy: 0.1000\n",
            "Epoch 10/10\n",
            "1563/1563 [==============================] - 43s 27ms/step - loss: 8.8818 - accuracy: 0.1000\n"
          ]
        },
        {
          "output_type": "execute_result",
          "data": {
            "text/plain": [
              "<keras.callbacks.History at 0x784d15179330>"
            ]
          },
          "metadata": {},
          "execution_count": 39
        }
      ]
    },
    {
      "cell_type": "code",
      "source": [
        "cnn_model.evaluate(X_test,y_test)"
      ],
      "metadata": {
        "id": "2pG6mI5m9l4f",
        "colab": {
          "base_uri": "https://localhost:8080/"
        },
        "outputId": "39215eac-c43a-4538-e01a-2eeda31c9f4c"
      },
      "execution_count": null,
      "outputs": [
        {
          "output_type": "stream",
          "name": "stdout",
          "text": [
            "313/313 [==============================] - 5s 16ms/step - loss: 8.8818 - accuracy: 0.1000\n"
          ]
        },
        {
          "output_type": "execute_result",
          "data": {
            "text/plain": [
              "[8.8818359375, 0.10000000149011612]"
            ]
          },
          "metadata": {},
          "execution_count": 40
        }
      ]
    },
    {
      "cell_type": "code",
      "source": [
        "y_pred=cnn_model.predict(X_test)\n",
        "print(y_pred[0])\n",
        "y_pred_classes = [np.argmax(i) for i in y_pred]\n",
        "print(y_pred_classes[0])\n",
        "report = classification_report(y_test, y_pred_classes)\n",
        "print(report)"
      ],
      "metadata": {
        "id": "N3dQcjfA-xQU",
        "colab": {
          "base_uri": "https://localhost:8080/"
        },
        "outputId": "cfd9b26b-e471-4ea0-f341-4ca7681820b7"
      },
      "execution_count": null,
      "outputs": [
        {
          "output_type": "stream",
          "name": "stdout",
          "text": [
            "313/313 [==============================] - 5s 15ms/step\n",
            "[0. 0. 0. ... 0. 0. 0.]\n",
            "0\n",
            "              precision    recall  f1-score   support\n",
            "\n",
            "           0       0.10      1.00      0.18      1000\n",
            "           1       0.00      0.00      0.00      1000\n",
            "           2       0.00      0.00      0.00      1000\n",
            "           3       0.00      0.00      0.00      1000\n",
            "           4       0.00      0.00      0.00      1000\n",
            "           5       0.00      0.00      0.00      1000\n",
            "           6       0.00      0.00      0.00      1000\n",
            "           7       0.00      0.00      0.00      1000\n",
            "           8       0.00      0.00      0.00      1000\n",
            "           9       0.00      0.00      0.00      1000\n",
            "\n",
            "    accuracy                           0.10     10000\n",
            "   macro avg       0.01      0.10      0.02     10000\n",
            "weighted avg       0.01      0.10      0.02     10000\n",
            "\n"
          ]
        },
        {
          "output_type": "stream",
          "name": "stderr",
          "text": [
            "/usr/local/lib/python3.10/dist-packages/sklearn/metrics/_classification.py:1344: UndefinedMetricWarning: Precision and F-score are ill-defined and being set to 0.0 in labels with no predicted samples. Use `zero_division` parameter to control this behavior.\n",
            "  _warn_prf(average, modifier, msg_start, len(result))\n",
            "/usr/local/lib/python3.10/dist-packages/sklearn/metrics/_classification.py:1344: UndefinedMetricWarning: Precision and F-score are ill-defined and being set to 0.0 in labels with no predicted samples. Use `zero_division` parameter to control this behavior.\n",
            "  _warn_prf(average, modifier, msg_start, len(result))\n",
            "/usr/local/lib/python3.10/dist-packages/sklearn/metrics/_classification.py:1344: UndefinedMetricWarning: Precision and F-score are ill-defined and being set to 0.0 in labels with no predicted samples. Use `zero_division` parameter to control this behavior.\n",
            "  _warn_prf(average, modifier, msg_start, len(result))\n"
          ]
        }
      ]
    }
  ]
}