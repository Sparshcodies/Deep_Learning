{
  "nbformat": 4,
  "nbformat_minor": 0,
  "metadata": {
    "colab": {
      "provenance": []
    },
    "kernelspec": {
      "name": "python3",
      "display_name": "Python 3"
    },
    "language_info": {
      "name": "python"
    }
  },
  "cells": [
    {
      "cell_type": "markdown",
      "source": [
        "# **Practical 2**\n"
      ],
      "metadata": {
        "id": "iSTPtqtmA4Jk"
      }
    },
    {
      "cell_type": "markdown",
      "source": [
        "# **Activation Function Implementation: Implement from scratch and explain various activation function used in deep learning.**"
      ],
      "metadata": {
        "id": "EcCwCVkL4GEQ"
      }
    },
    {
      "cell_type": "markdown",
      "source": [
        "**Importing Libraries**"
      ],
      "metadata": {
        "id": "iXT4wsuUA9Ur"
      }
    },
    {
      "cell_type": "code",
      "source": [
        "\n",
        "import numpy as np\n",
        "import pandas as pd\n",
        "import math"
      ],
      "metadata": {
        "id": "Ew8GqKCzA9ky"
      },
      "execution_count": null,
      "outputs": []
    },
    {
      "cell_type": "markdown",
      "source": [
        "Sigmoid"
      ],
      "metadata": {
        "id": "z3gBxjFcCtbY"
      }
    },
    {
      "cell_type": "code",
      "source": [
        "def sigmoid(x):\n",
        "  return 1/(1+math.exp(-x))"
      ],
      "metadata": {
        "id": "vo9Nom5BqrYX"
      },
      "execution_count": null,
      "outputs": []
    },
    {
      "cell_type": "code",
      "source": [
        "sigmoid(1)"
      ],
      "metadata": {
        "colab": {
          "base_uri": "https://localhost:8080/"
        },
        "id": "JhqmwPqz4s4l",
        "outputId": "53f4d7f5-2e39-4261-d2d1-9e192348f018"
      },
      "execution_count": null,
      "outputs": [
        {
          "output_type": "execute_result",
          "data": {
            "text/plain": [
              "0.7310585786300049"
            ]
          },
          "metadata": {},
          "execution_count": 4
        }
      ]
    },
    {
      "cell_type": "code",
      "source": [
        "sigmoid(10)"
      ],
      "metadata": {
        "colab": {
          "base_uri": "https://localhost:8080/"
        },
        "id": "Y8mOaQKZ44QG",
        "outputId": "994e4327-1384-4f06-dcda-8786275df621"
      },
      "execution_count": null,
      "outputs": [
        {
          "output_type": "execute_result",
          "data": {
            "text/plain": [
              "0.9999546021312976"
            ]
          },
          "metadata": {},
          "execution_count": 5
        }
      ]
    },
    {
      "cell_type": "code",
      "source": [
        "sigmoid(999)"
      ],
      "metadata": {
        "colab": {
          "base_uri": "https://localhost:8080/"
        },
        "id": "1gdmFncB4_T2",
        "outputId": "0e469834-bb4a-45b5-8b70-d256aee2d2e2"
      },
      "execution_count": null,
      "outputs": [
        {
          "output_type": "execute_result",
          "data": {
            "text/plain": [
              "1.0"
            ]
          },
          "metadata": {},
          "execution_count": 6
        }
      ]
    },
    {
      "cell_type": "code",
      "source": [
        "sigmoid(-499)"
      ],
      "metadata": {
        "colab": {
          "base_uri": "https://localhost:8080/"
        },
        "id": "plgJ5pbE5ERe",
        "outputId": "8f63d356-0f16-4636-f458-a717eb2d0ca1"
      },
      "execution_count": null,
      "outputs": [
        {
          "output_type": "execute_result",
          "data": {
            "text/plain": [
              "1.9366606581912876e-217"
            ]
          },
          "metadata": {},
          "execution_count": 7
        }
      ]
    },
    {
      "cell_type": "markdown",
      "source": [
        "Tanh"
      ],
      "metadata": {
        "id": "MgY_BrRuCv23"
      }
    },
    {
      "cell_type": "code",
      "source": [
        "def tanh(x):\n",
        "  return (math.exp(x)-math.exp(-x))/(math.exp(x)+math.exp(-x))"
      ],
      "metadata": {
        "id": "gdbxj2ox5NNH"
      },
      "execution_count": null,
      "outputs": []
    },
    {
      "cell_type": "code",
      "source": [
        "tanh(1)"
      ],
      "metadata": {
        "colab": {
          "base_uri": "https://localhost:8080/"
        },
        "id": "0crKi_Kr5mZm",
        "outputId": "0e09a083-4f97-4a90-a033-4dee392e543b"
      },
      "execution_count": null,
      "outputs": [
        {
          "output_type": "execute_result",
          "data": {
            "text/plain": [
              "0.7615941559557649"
            ]
          },
          "metadata": {},
          "execution_count": 9
        }
      ]
    },
    {
      "cell_type": "code",
      "source": [
        "tanh(-399)"
      ],
      "metadata": {
        "colab": {
          "base_uri": "https://localhost:8080/"
        },
        "id": "iIttoZcb5pbl",
        "outputId": "a963b344-39b2-4c68-e21b-78e55a5ebe42"
      },
      "execution_count": null,
      "outputs": [
        {
          "output_type": "execute_result",
          "data": {
            "text/plain": [
              "-1.0"
            ]
          },
          "metadata": {},
          "execution_count": 10
        }
      ]
    },
    {
      "cell_type": "code",
      "source": [
        "tanh(10)"
      ],
      "metadata": {
        "colab": {
          "base_uri": "https://localhost:8080/"
        },
        "id": "ewzbdGtD54k1",
        "outputId": "0938eb0a-9113-458f-9939-1c81981cfc08"
      },
      "execution_count": null,
      "outputs": [
        {
          "output_type": "execute_result",
          "data": {
            "text/plain": [
              "0.9999999958776926"
            ]
          },
          "metadata": {},
          "execution_count": 11
        }
      ]
    },
    {
      "cell_type": "markdown",
      "source": [
        "Relu"
      ],
      "metadata": {
        "id": "ecUG6eSpC2ZZ"
      }
    },
    {
      "cell_type": "code",
      "source": [
        "def relu(x):\n",
        "  if(x>0):\n",
        "    return x\n",
        "  else:\n",
        "    return 0"
      ],
      "metadata": {
        "id": "H9C1zMUx5s2s"
      },
      "execution_count": null,
      "outputs": []
    },
    {
      "cell_type": "code",
      "source": [
        "relu(-3)"
      ],
      "metadata": {
        "colab": {
          "base_uri": "https://localhost:8080/"
        },
        "id": "HIc2gBb959uW",
        "outputId": "b49d785f-cc1f-495d-eda6-90a5571fe8d0"
      },
      "execution_count": null,
      "outputs": [
        {
          "output_type": "execute_result",
          "data": {
            "text/plain": [
              "0"
            ]
          },
          "metadata": {},
          "execution_count": 13
        }
      ]
    },
    {
      "cell_type": "code",
      "source": [
        "relu(8)"
      ],
      "metadata": {
        "colab": {
          "base_uri": "https://localhost:8080/"
        },
        "id": "bxBOcdCJ6AUv",
        "outputId": "9bc8ee0e-ea09-4d95-80fa-c916fb48c1c3"
      },
      "execution_count": null,
      "outputs": [
        {
          "output_type": "execute_result",
          "data": {
            "text/plain": [
              "8"
            ]
          },
          "metadata": {},
          "execution_count": 14
        }
      ]
    },
    {
      "cell_type": "markdown",
      "source": [
        "LeakyRelu"
      ],
      "metadata": {
        "id": "cG5HlaQBC4fx"
      }
    },
    {
      "cell_type": "code",
      "source": [
        "def leakyrelu(x):\n",
        "  if(x<0):\n",
        "    return 0.01*x\n",
        "  else:\n",
        "    return 0\n"
      ],
      "metadata": {
        "id": "Pyg26so46Db5"
      },
      "execution_count": null,
      "outputs": []
    },
    {
      "cell_type": "code",
      "source": [
        "leakyrelu(9)"
      ],
      "metadata": {
        "colab": {
          "base_uri": "https://localhost:8080/"
        },
        "id": "6ckfiCea6Cdg",
        "outputId": "a9d19933-bc50-452d-d616-6787d2677325"
      },
      "execution_count": null,
      "outputs": [
        {
          "output_type": "execute_result",
          "data": {
            "text/plain": [
              "0"
            ]
          },
          "metadata": {},
          "execution_count": 16
        }
      ]
    },
    {
      "cell_type": "code",
      "source": [
        "leakyrelu(-1)"
      ],
      "metadata": {
        "colab": {
          "base_uri": "https://localhost:8080/"
        },
        "id": "BfXcVqEI6Zod",
        "outputId": "42076f86-afa2-47c1-f8f4-7a02da6efea7"
      },
      "execution_count": null,
      "outputs": [
        {
          "output_type": "execute_result",
          "data": {
            "text/plain": [
              "-0.01"
            ]
          },
          "metadata": {},
          "execution_count": 17
        }
      ]
    },
    {
      "cell_type": "markdown",
      "source": [
        "Elu"
      ],
      "metadata": {
        "id": "JyU_jcvrC7f7"
      }
    },
    {
      "cell_type": "code",
      "source": [
        "def elu(x):\n",
        "  if(x<0):\n",
        "    return math.exp(x)\n",
        "  else:\n",
        "    return x"
      ],
      "metadata": {
        "id": "uzlaNeJe6hwh"
      },
      "execution_count": null,
      "outputs": []
    },
    {
      "cell_type": "code",
      "source": [
        "elu(-30)"
      ],
      "metadata": {
        "colab": {
          "base_uri": "https://localhost:8080/"
        },
        "id": "3MdUFXc26-W3",
        "outputId": "0ab57365-7071-497b-81c0-5716707a6bd9"
      },
      "execution_count": null,
      "outputs": [
        {
          "output_type": "execute_result",
          "data": {
            "text/plain": [
              "9.357622968840175e-14"
            ]
          },
          "metadata": {},
          "execution_count": 19
        }
      ]
    },
    {
      "cell_type": "code",
      "source": [
        "elu(9)"
      ],
      "metadata": {
        "colab": {
          "base_uri": "https://localhost:8080/"
        },
        "id": "tDczfg3Y7BxY",
        "outputId": "13d7793f-581b-4468-a783-f22d545c2001"
      },
      "execution_count": null,
      "outputs": [
        {
          "output_type": "execute_result",
          "data": {
            "text/plain": [
              "9"
            ]
          },
          "metadata": {},
          "execution_count": 20
        }
      ]
    },
    {
      "cell_type": "markdown",
      "source": [
        "Selu"
      ],
      "metadata": {
        "id": "p08BimsrC_Z6"
      }
    },
    {
      "cell_type": "code",
      "source": [
        "s=1.0507\n",
        "a=1.6732\n",
        "def selu(x):\n",
        "  if(x>0):\n",
        "    return s*a\n",
        "  else:\n",
        "    return s*a(math.exp(x)-1)\n",
        "\n"
      ],
      "metadata": {
        "id": "JcGb1h4W7zxQ"
      },
      "execution_count": null,
      "outputs": []
    },
    {
      "cell_type": "code",
      "source": [
        "selu(2)"
      ],
      "metadata": {
        "colab": {
          "base_uri": "https://localhost:8080/"
        },
        "id": "FrW5t6Pc9v2j",
        "outputId": "887edb8f-4c83-4891-c2ff-2c44b3a0a8d2"
      },
      "execution_count": null,
      "outputs": [
        {
          "output_type": "execute_result",
          "data": {
            "text/plain": [
              "1.75803124"
            ]
          },
          "metadata": {},
          "execution_count": 22
        }
      ]
    }
  ]
}