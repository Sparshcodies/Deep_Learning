{
  "nbformat": 4,
  "nbformat_minor": 0,
  "metadata": {
    "colab": {
      "provenance": []
    },
    "kernelspec": {
      "name": "python3",
      "display_name": "Python 3"
    },
    "language_info": {
      "name": "python"
    }
  },
  "cells": [
    {
      "cell_type": "markdown",
      "source": [
        "# **Practical 3**"
      ],
      "metadata": {
        "id": "HhqdQP4s7_jM"
      }
    },
    {
      "cell_type": "markdown",
      "source": [
        "# **Loss Function Implementation : Implement and explain various loss function used in deep learning**"
      ],
      "metadata": {
        "id": "tjqVWqqwxo2M"
      }
    },
    {
      "cell_type": "markdown",
      "source": [
        "Mean Absolute Error"
      ],
      "metadata": {
        "id": "p9GLc665zqiN"
      }
    },
    {
      "cell_type": "code",
      "source": [
        "import math\n",
        "import numpy as np"
      ],
      "metadata": {
        "id": "KY7Tanr68sEv"
      },
      "execution_count": null,
      "outputs": []
    },
    {
      "cell_type": "code",
      "source": [
        "y=np.array([1,0,1,0,0])\n",
        "yhat=np.array([0,8,0,2,0])\n"
      ],
      "metadata": {
        "id": "-vXNSlGlz4nw"
      },
      "execution_count": null,
      "outputs": []
    },
    {
      "cell_type": "code",
      "source": [
        "def mae(yt,yp):\n",
        "  total_error=0\n",
        "  for i,j in zip(yt,yp):\n",
        "    total_error=total_error+abs(i-j)\n",
        "\n",
        "  mae=total_error/len(yt)\n",
        "  print(\"Total Error : \",total_error)\n",
        "  print(\"MAE\",mae)"
      ],
      "metadata": {
        "id": "zVGUF_q80Kd8"
      },
      "execution_count": null,
      "outputs": []
    },
    {
      "cell_type": "code",
      "source": [
        "mae(y,yhat)"
      ],
      "metadata": {
        "colab": {
          "base_uri": "https://localhost:8080/"
        },
        "id": "BO6npxcI0-NC",
        "outputId": "30cd704d-aaf2-48e1-ec37-45319234dc63"
      },
      "execution_count": null,
      "outputs": [
        {
          "output_type": "stream",
          "name": "stdout",
          "text": [
            "Total Error :  12\n",
            "MAE 2.4\n"
          ]
        }
      ]
    },
    {
      "cell_type": "code",
      "source": [
        "(y-yhat)"
      ],
      "metadata": {
        "colab": {
          "base_uri": "https://localhost:8080/"
        },
        "id": "TGmjT9Px02vT",
        "outputId": "4628a161-92cc-405d-e860-d8144cb5e677"
      },
      "execution_count": null,
      "outputs": [
        {
          "output_type": "execute_result",
          "data": {
            "text/plain": [
              "array([ 1, -8,  1, -2,  0])"
            ]
          },
          "metadata": {},
          "execution_count": 56
        }
      ]
    },
    {
      "cell_type": "code",
      "source": [
        "np.mean(np.abs(y-yhat))"
      ],
      "metadata": {
        "colab": {
          "base_uri": "https://localhost:8080/"
        },
        "id": "9QYLm6_F3Iyb",
        "outputId": "cd582212-d9fe-4fe6-a614-21ec6de6fed8"
      },
      "execution_count": null,
      "outputs": [
        {
          "output_type": "execute_result",
          "data": {
            "text/plain": [
              "2.4"
            ]
          },
          "metadata": {},
          "execution_count": 57
        }
      ]
    },
    {
      "cell_type": "markdown",
      "source": [
        "Mean Squared Error"
      ],
      "metadata": {
        "id": "N8JwX5aZ3QbV"
      }
    },
    {
      "cell_type": "code",
      "source": [
        "def mse(yt,yp):\n",
        "  total_error=0\n",
        "  for i,j in zip(yt,yp):\n",
        "    total_error=total_error+(i-j)**2\n",
        "\n",
        "  mse=total_error/len(yt)\n",
        "  print(\"Total Error : \",total_error)\n",
        "  print(\"MSE\",mse)"
      ],
      "metadata": {
        "id": "Vff1erfm3Xa6"
      },
      "execution_count": null,
      "outputs": []
    },
    {
      "cell_type": "code",
      "source": [
        "mse(y,yhat)"
      ],
      "metadata": {
        "colab": {
          "base_uri": "https://localhost:8080/"
        },
        "id": "6S9dbIhe3s1C",
        "outputId": "abd8b96e-b02b-4ef6-e165-51208c49ce69"
      },
      "execution_count": null,
      "outputs": [
        {
          "output_type": "stream",
          "name": "stdout",
          "text": [
            "Total Error :  70\n",
            "MSE 14.0\n"
          ]
        }
      ]
    },
    {
      "cell_type": "code",
      "source": [
        "np.mean((y-yhat)**2)"
      ],
      "metadata": {
        "colab": {
          "base_uri": "https://localhost:8080/"
        },
        "id": "aOSGa2JB35TS",
        "outputId": "6cce007c-ae42-4d6f-cf39-670b6b917855"
      },
      "execution_count": null,
      "outputs": [
        {
          "output_type": "execute_result",
          "data": {
            "text/plain": [
              "14.0"
            ]
          },
          "metadata": {},
          "execution_count": 60
        }
      ]
    },
    {
      "cell_type": "markdown",
      "source": [
        "Log Loss Entropy"
      ],
      "metadata": {
        "id": "tqQ3M9r_93eG"
      }
    },
    {
      "cell_type": "code",
      "source": [
        "def log_loss(yt,yp):\n",
        "  e=1e-10\n",
        "  yp_new=[max(i,e) for i in yp]\n",
        "  yp_new=[min(i,1-e) for i in yp_new]\n",
        "  yp_new=np.array(yp_new)\n",
        "  return -np.mean(yt*np.log(yp_new)+(1-yt)*np.log(1-yp_new))"
      ],
      "metadata": {
        "id": "D0N7qJRc97Nl"
      },
      "execution_count": null,
      "outputs": []
    },
    {
      "cell_type": "code",
      "source": [
        "log_loss(y,yhat)"
      ],
      "metadata": {
        "colab": {
          "base_uri": "https://localhost:8080/"
        },
        "id": "JTBqVo59-LJ-",
        "outputId": "94a5969a-674c-4a53-90be-3f335fa24357"
      },
      "execution_count": null,
      "outputs": [
        {
          "output_type": "execute_result",
          "data": {
            "text/plain": [
              "18.42068071087622"
            ]
          },
          "metadata": {},
          "execution_count": 62
        }
      ]
    },
    {
      "cell_type": "markdown",
      "source": [
        "Binary Cross Entropy"
      ],
      "metadata": {
        "id": "Ke49Cp7A9JO3"
      }
    },
    {
      "cell_type": "code",
      "source": [
        "\n",
        "\n",
        "def binary_cross_entropy(yt, yp):\n",
        "    e = 1e-10\n",
        "    yp_new = [max(i, e) for i in yp]\n",
        "    yp_new = [min(i, 1 - e) for i in yp_new]\n",
        "    yp_new = np.array(yp_new)\n",
        "    return -np.mean(yt * np.log(yp_new) + (1 - yt) * np.log(1 - yp_new))\n",
        "\n",
        "# Example usage:\n",
        "yt = np.array([1, 0, 1, 0, 1])  # Example target values (binary)\n",
        "yp = np.array([0.8, 0.2, 0.6, 0.3, 0.9])  # Example predicted probabilities (binary)\n",
        "\n",
        "bce = binary_cross_entropy(yt, yp)\n",
        "print(\"Binary Cross-Entropy:\", bce)\n"
      ],
      "metadata": {
        "colab": {
          "base_uri": "https://localhost:8080/"
        },
        "id": "hm22TNc_8nDt",
        "outputId": "b5d9b655-1d20-4042-f5b6-c7c2d8c88333"
      },
      "execution_count": null,
      "outputs": [
        {
          "output_type": "stream",
          "name": "stdout",
          "text": [
            "Binary Cross-Entropy: 0.28382963719819376\n"
          ]
        }
      ]
    },
    {
      "cell_type": "markdown",
      "source": [
        "Sparse Categorical Cross Entropy"
      ],
      "metadata": {
        "id": "RHfZtpmD9O0J"
      }
    },
    {
      "cell_type": "code",
      "source": [
        "import numpy as np\n",
        "\n",
        "def sparse_categorical_cross_entropy(yt, yp):\n",
        "    e = 1e-10\n",
        "    yp_new = np.clip(yp, e, 1 - e)  # Clip probabilities to avoid numerical instability\n",
        "    ce = -np.log(yp_new[np.arange(len(yt)), yt])  # Calculate cross-entropy for each sample\n",
        "    return np.mean(ce)  # Average cross-entropy across samples\n",
        "\n",
        "# Example usage:\n",
        "yt = np.array([2, 1, 0, 2, 1])  # Example target labels (sparse categories)\n",
        "yp = np.array([[0.1, 0.2, 0.7], [0.3, 0.5, 0.2], [0.6, 0.1, 0.3], [0.1, 0.3, 0.6], [0.4, 0.5, 0.1]])  # Example predicted probabilities (softmax output)\n",
        "\n",
        "sce = sparse_categorical_cross_entropy(yt, yp)\n",
        "print(\"Sparse Categorical Cross-Entropy:\", sce)\n"
      ],
      "metadata": {
        "colab": {
          "base_uri": "https://localhost:8080/"
        },
        "id": "pPG2bKZZ9NmJ",
        "outputId": "0ed9baeb-0013-40d3-9afe-6eca5a855c9a"
      },
      "execution_count": null,
      "outputs": [
        {
          "output_type": "stream",
          "name": "stdout",
          "text": [
            "Sparse Categorical Cross-Entropy: 0.552924110518121\n"
          ]
        }
      ]
    },
    {
      "cell_type": "code",
      "source": [],
      "metadata": {
        "id": "yUphBer39S9-"
      },
      "execution_count": null,
      "outputs": []
    }
  ]
}