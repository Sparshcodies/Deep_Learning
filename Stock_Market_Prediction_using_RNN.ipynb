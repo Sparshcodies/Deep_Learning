{
  "nbformat": 4,
  "nbformat_minor": 0,
  "metadata": {
    "colab": {
      "provenance": []
    },
    "kernelspec": {
      "name": "python3",
      "display_name": "Python 3"
    },
    "language_info": {
      "name": "python"
    },
    "accelerator": "TPU"
  },
  "cells": [
    {
      "cell_type": "markdown",
      "source": [
        "# **Practical 9**"
      ],
      "metadata": {
        "id": "zWxjhgmKXelD"
      }
    },
    {
      "cell_type": "markdown",
      "source": [
        "# **Implementation of RNN on Stock Market Price Pridiction**"
      ],
      "metadata": {
        "id": "ePeiMwfHXkJO"
      }
    },
    {
      "cell_type": "code",
      "execution_count": null,
      "metadata": {
        "id": "jO6I_o4N4-kw"
      },
      "outputs": [],
      "source": [
        "import numpy as np\n",
        "import pandas as pd\n",
        "import tensorflow as tf\n",
        "from tensorflow import keras\n",
        "import matplotlib.pyplot as plt\n",
        "from sklearn.preprocessing import MinMaxScaler\n"
      ]
    },
    {
      "cell_type": "code",
      "source": [
        "Training_data = pd.read_csv(\"/content/drive/MyDrive/datasets/datasets/Train_RNN.csv\")"
      ],
      "metadata": {
        "id": "ew2BwiKz597B"
      },
      "execution_count": null,
      "outputs": []
    },
    {
      "cell_type": "code",
      "source": [
        "Test_data = pd.read_csv(\"/content/drive/MyDrive/datasets/datasets/Test_RNN.csv\")"
      ],
      "metadata": {
        "id": "NzCTyB4b6ISa"
      },
      "execution_count": null,
      "outputs": []
    },
    {
      "cell_type": "code",
      "source": [
        "Training_data.head()"
      ],
      "metadata": {
        "colab": {
          "base_uri": "https://localhost:8080/",
          "height": 206
        },
        "id": "_hS2j6F96NWB",
        "outputId": "4079dd82-6be1-4179-c834-25d54ac0f5cc"
      },
      "execution_count": null,
      "outputs": [
        {
          "output_type": "execute_result",
          "data": {
            "text/plain": [
              "         Date        Open        High         Low       Close   Adj Close  \\\n",
              "0  2023-04-10  107.389999  107.970001  105.599998  106.949997  106.949997   \n",
              "1  2023-04-11  106.919998  107.220001  105.279999  106.120003  106.120003   \n",
              "2  2023-04-12  107.389999  107.586998  104.970001  105.220001  105.220001   \n",
              "3  2023-04-13  106.470001  108.264999  106.440002  108.190002  108.190002   \n",
              "4  2023-04-14  107.690002  109.580002  107.589996  109.459999  109.459999   \n",
              "\n",
              "     Volume  \n",
              "0  19741500  \n",
              "1  18721300  \n",
              "2  22761600  \n",
              "3  21650700  \n",
              "4  20758700  "
            ],
            "text/html": [
              "\n",
              "  <div id=\"df-06ddd984-b3e9-4201-8300-60c9e10ccf1b\" class=\"colab-df-container\">\n",
              "    <div>\n",
              "<style scoped>\n",
              "    .dataframe tbody tr th:only-of-type {\n",
              "        vertical-align: middle;\n",
              "    }\n",
              "\n",
              "    .dataframe tbody tr th {\n",
              "        vertical-align: top;\n",
              "    }\n",
              "\n",
              "    .dataframe thead th {\n",
              "        text-align: right;\n",
              "    }\n",
              "</style>\n",
              "<table border=\"1\" class=\"dataframe\">\n",
              "  <thead>\n",
              "    <tr style=\"text-align: right;\">\n",
              "      <th></th>\n",
              "      <th>Date</th>\n",
              "      <th>Open</th>\n",
              "      <th>High</th>\n",
              "      <th>Low</th>\n",
              "      <th>Close</th>\n",
              "      <th>Adj Close</th>\n",
              "      <th>Volume</th>\n",
              "    </tr>\n",
              "  </thead>\n",
              "  <tbody>\n",
              "    <tr>\n",
              "      <th>0</th>\n",
              "      <td>2023-04-10</td>\n",
              "      <td>107.389999</td>\n",
              "      <td>107.970001</td>\n",
              "      <td>105.599998</td>\n",
              "      <td>106.949997</td>\n",
              "      <td>106.949997</td>\n",
              "      <td>19741500</td>\n",
              "    </tr>\n",
              "    <tr>\n",
              "      <th>1</th>\n",
              "      <td>2023-04-11</td>\n",
              "      <td>106.919998</td>\n",
              "      <td>107.220001</td>\n",
              "      <td>105.279999</td>\n",
              "      <td>106.120003</td>\n",
              "      <td>106.120003</td>\n",
              "      <td>18721300</td>\n",
              "    </tr>\n",
              "    <tr>\n",
              "      <th>2</th>\n",
              "      <td>2023-04-12</td>\n",
              "      <td>107.389999</td>\n",
              "      <td>107.586998</td>\n",
              "      <td>104.970001</td>\n",
              "      <td>105.220001</td>\n",
              "      <td>105.220001</td>\n",
              "      <td>22761600</td>\n",
              "    </tr>\n",
              "    <tr>\n",
              "      <th>3</th>\n",
              "      <td>2023-04-13</td>\n",
              "      <td>106.470001</td>\n",
              "      <td>108.264999</td>\n",
              "      <td>106.440002</td>\n",
              "      <td>108.190002</td>\n",
              "      <td>108.190002</td>\n",
              "      <td>21650700</td>\n",
              "    </tr>\n",
              "    <tr>\n",
              "      <th>4</th>\n",
              "      <td>2023-04-14</td>\n",
              "      <td>107.690002</td>\n",
              "      <td>109.580002</td>\n",
              "      <td>107.589996</td>\n",
              "      <td>109.459999</td>\n",
              "      <td>109.459999</td>\n",
              "      <td>20758700</td>\n",
              "    </tr>\n",
              "  </tbody>\n",
              "</table>\n",
              "</div>\n",
              "    <div class=\"colab-df-buttons\">\n",
              "\n",
              "  <div class=\"colab-df-container\">\n",
              "    <button class=\"colab-df-convert\" onclick=\"convertToInteractive('df-06ddd984-b3e9-4201-8300-60c9e10ccf1b')\"\n",
              "            title=\"Convert this dataframe to an interactive table.\"\n",
              "            style=\"display:none;\">\n",
              "\n",
              "  <svg xmlns=\"http://www.w3.org/2000/svg\" height=\"24px\" viewBox=\"0 -960 960 960\">\n",
              "    <path d=\"M120-120v-720h720v720H120Zm60-500h600v-160H180v160Zm220 220h160v-160H400v160Zm0 220h160v-160H400v160ZM180-400h160v-160H180v160Zm440 0h160v-160H620v160ZM180-180h160v-160H180v160Zm440 0h160v-160H620v160Z\"/>\n",
              "  </svg>\n",
              "    </button>\n",
              "\n",
              "  <style>\n",
              "    .colab-df-container {\n",
              "      display:flex;\n",
              "      gap: 12px;\n",
              "    }\n",
              "\n",
              "    .colab-df-convert {\n",
              "      background-color: #E8F0FE;\n",
              "      border: none;\n",
              "      border-radius: 50%;\n",
              "      cursor: pointer;\n",
              "      display: none;\n",
              "      fill: #1967D2;\n",
              "      height: 32px;\n",
              "      padding: 0 0 0 0;\n",
              "      width: 32px;\n",
              "    }\n",
              "\n",
              "    .colab-df-convert:hover {\n",
              "      background-color: #E2EBFA;\n",
              "      box-shadow: 0px 1px 2px rgba(60, 64, 67, 0.3), 0px 1px 3px 1px rgba(60, 64, 67, 0.15);\n",
              "      fill: #174EA6;\n",
              "    }\n",
              "\n",
              "    .colab-df-buttons div {\n",
              "      margin-bottom: 4px;\n",
              "    }\n",
              "\n",
              "    [theme=dark] .colab-df-convert {\n",
              "      background-color: #3B4455;\n",
              "      fill: #D2E3FC;\n",
              "    }\n",
              "\n",
              "    [theme=dark] .colab-df-convert:hover {\n",
              "      background-color: #434B5C;\n",
              "      box-shadow: 0px 1px 3px 1px rgba(0, 0, 0, 0.15);\n",
              "      filter: drop-shadow(0px 1px 2px rgba(0, 0, 0, 0.3));\n",
              "      fill: #FFFFFF;\n",
              "    }\n",
              "  </style>\n",
              "\n",
              "    <script>\n",
              "      const buttonEl =\n",
              "        document.querySelector('#df-06ddd984-b3e9-4201-8300-60c9e10ccf1b button.colab-df-convert');\n",
              "      buttonEl.style.display =\n",
              "        google.colab.kernel.accessAllowed ? 'block' : 'none';\n",
              "\n",
              "      async function convertToInteractive(key) {\n",
              "        const element = document.querySelector('#df-06ddd984-b3e9-4201-8300-60c9e10ccf1b');\n",
              "        const dataTable =\n",
              "          await google.colab.kernel.invokeFunction('convertToInteractive',\n",
              "                                                    [key], {});\n",
              "        if (!dataTable) return;\n",
              "\n",
              "        const docLinkHtml = 'Like what you see? Visit the ' +\n",
              "          '<a target=\"_blank\" href=https://colab.research.google.com/notebooks/data_table.ipynb>data table notebook</a>'\n",
              "          + ' to learn more about interactive tables.';\n",
              "        element.innerHTML = '';\n",
              "        dataTable['output_type'] = 'display_data';\n",
              "        await google.colab.output.renderOutput(dataTable, element);\n",
              "        const docLink = document.createElement('div');\n",
              "        docLink.innerHTML = docLinkHtml;\n",
              "        element.appendChild(docLink);\n",
              "      }\n",
              "    </script>\n",
              "  </div>\n",
              "\n",
              "\n",
              "<div id=\"df-13f2881d-cec1-4761-b9d9-23aaac43f331\">\n",
              "  <button class=\"colab-df-quickchart\" onclick=\"quickchart('df-13f2881d-cec1-4761-b9d9-23aaac43f331')\"\n",
              "            title=\"Suggest charts\"\n",
              "            style=\"display:none;\">\n",
              "\n",
              "<svg xmlns=\"http://www.w3.org/2000/svg\" height=\"24px\"viewBox=\"0 0 24 24\"\n",
              "     width=\"24px\">\n",
              "    <g>\n",
              "        <path d=\"M19 3H5c-1.1 0-2 .9-2 2v14c0 1.1.9 2 2 2h14c1.1 0 2-.9 2-2V5c0-1.1-.9-2-2-2zM9 17H7v-7h2v7zm4 0h-2V7h2v10zm4 0h-2v-4h2v4z\"/>\n",
              "    </g>\n",
              "</svg>\n",
              "  </button>\n",
              "\n",
              "<style>\n",
              "  .colab-df-quickchart {\n",
              "      --bg-color: #E8F0FE;\n",
              "      --fill-color: #1967D2;\n",
              "      --hover-bg-color: #E2EBFA;\n",
              "      --hover-fill-color: #174EA6;\n",
              "      --disabled-fill-color: #AAA;\n",
              "      --disabled-bg-color: #DDD;\n",
              "  }\n",
              "\n",
              "  [theme=dark] .colab-df-quickchart {\n",
              "      --bg-color: #3B4455;\n",
              "      --fill-color: #D2E3FC;\n",
              "      --hover-bg-color: #434B5C;\n",
              "      --hover-fill-color: #FFFFFF;\n",
              "      --disabled-bg-color: #3B4455;\n",
              "      --disabled-fill-color: #666;\n",
              "  }\n",
              "\n",
              "  .colab-df-quickchart {\n",
              "    background-color: var(--bg-color);\n",
              "    border: none;\n",
              "    border-radius: 50%;\n",
              "    cursor: pointer;\n",
              "    display: none;\n",
              "    fill: var(--fill-color);\n",
              "    height: 32px;\n",
              "    padding: 0;\n",
              "    width: 32px;\n",
              "  }\n",
              "\n",
              "  .colab-df-quickchart:hover {\n",
              "    background-color: var(--hover-bg-color);\n",
              "    box-shadow: 0 1px 2px rgba(60, 64, 67, 0.3), 0 1px 3px 1px rgba(60, 64, 67, 0.15);\n",
              "    fill: var(--button-hover-fill-color);\n",
              "  }\n",
              "\n",
              "  .colab-df-quickchart-complete:disabled,\n",
              "  .colab-df-quickchart-complete:disabled:hover {\n",
              "    background-color: var(--disabled-bg-color);\n",
              "    fill: var(--disabled-fill-color);\n",
              "    box-shadow: none;\n",
              "  }\n",
              "\n",
              "  .colab-df-spinner {\n",
              "    border: 2px solid var(--fill-color);\n",
              "    border-color: transparent;\n",
              "    border-bottom-color: var(--fill-color);\n",
              "    animation:\n",
              "      spin 1s steps(1) infinite;\n",
              "  }\n",
              "\n",
              "  @keyframes spin {\n",
              "    0% {\n",
              "      border-color: transparent;\n",
              "      border-bottom-color: var(--fill-color);\n",
              "      border-left-color: var(--fill-color);\n",
              "    }\n",
              "    20% {\n",
              "      border-color: transparent;\n",
              "      border-left-color: var(--fill-color);\n",
              "      border-top-color: var(--fill-color);\n",
              "    }\n",
              "    30% {\n",
              "      border-color: transparent;\n",
              "      border-left-color: var(--fill-color);\n",
              "      border-top-color: var(--fill-color);\n",
              "      border-right-color: var(--fill-color);\n",
              "    }\n",
              "    40% {\n",
              "      border-color: transparent;\n",
              "      border-right-color: var(--fill-color);\n",
              "      border-top-color: var(--fill-color);\n",
              "    }\n",
              "    60% {\n",
              "      border-color: transparent;\n",
              "      border-right-color: var(--fill-color);\n",
              "    }\n",
              "    80% {\n",
              "      border-color: transparent;\n",
              "      border-right-color: var(--fill-color);\n",
              "      border-bottom-color: var(--fill-color);\n",
              "    }\n",
              "    90% {\n",
              "      border-color: transparent;\n",
              "      border-bottom-color: var(--fill-color);\n",
              "    }\n",
              "  }\n",
              "</style>\n",
              "\n",
              "  <script>\n",
              "    async function quickchart(key) {\n",
              "      const quickchartButtonEl =\n",
              "        document.querySelector('#' + key + ' button');\n",
              "      quickchartButtonEl.disabled = true;  // To prevent multiple clicks.\n",
              "      quickchartButtonEl.classList.add('colab-df-spinner');\n",
              "      try {\n",
              "        const charts = await google.colab.kernel.invokeFunction(\n",
              "            'suggestCharts', [key], {});\n",
              "      } catch (error) {\n",
              "        console.error('Error during call to suggestCharts:', error);\n",
              "      }\n",
              "      quickchartButtonEl.classList.remove('colab-df-spinner');\n",
              "      quickchartButtonEl.classList.add('colab-df-quickchart-complete');\n",
              "    }\n",
              "    (() => {\n",
              "      let quickchartButtonEl =\n",
              "        document.querySelector('#df-13f2881d-cec1-4761-b9d9-23aaac43f331 button');\n",
              "      quickchartButtonEl.style.display =\n",
              "        google.colab.kernel.accessAllowed ? 'block' : 'none';\n",
              "    })();\n",
              "  </script>\n",
              "</div>\n",
              "\n",
              "    </div>\n",
              "  </div>\n"
            ],
            "application/vnd.google.colaboratory.intrinsic+json": {
              "type": "dataframe",
              "variable_name": "Training_data",
              "summary": "{\n  \"name\": \"Training_data\",\n  \"rows\": 252,\n  \"fields\": [\n    {\n      \"column\": \"Date\",\n      \"properties\": {\n        \"dtype\": \"object\",\n        \"num_unique_values\": 252,\n        \"samples\": [\n          \"2023-12-04\",\n          \"2023-04-18\",\n          \"2023-09-18\"\n        ],\n        \"semantic_type\": \"\",\n        \"description\": \"\"\n      }\n    },\n    {\n      \"column\": \"Open\",\n      \"properties\": {\n        \"dtype\": \"number\",\n        \"std\": 12.178981413045916,\n        \"min\": 104.214996,\n        \"max\": 157.350006,\n        \"num_unique_values\": 242,\n        \"samples\": [\n          116.489998,\n          104.214996,\n          137.820007\n        ],\n        \"semantic_type\": \"\",\n        \"description\": \"\"\n      }\n    },\n    {\n      \"column\": \"High\",\n      \"properties\": {\n        \"dtype\": \"number\",\n        \"std\": 12.186767135210543,\n        \"min\": 105.724998,\n        \"max\": 159.889999,\n        \"num_unique_values\": 248,\n        \"samples\": [\n          125.980003,\n          107.050003,\n          140.615005\n        ],\n        \"semantic_type\": \"\",\n        \"description\": \"\"\n      }\n    },\n    {\n      \"column\": \"Low\",\n      \"properties\": {\n        \"dtype\": \"number\",\n        \"std\": 12.158023048704546,\n        \"min\": 103.269997,\n        \"max\": 156.639999,\n        \"num_unique_values\": 249,\n        \"samples\": [\n          122.32,\n          104.779999,\n          132.979996\n        ],\n        \"semantic_type\": \"\",\n        \"description\": \"\"\n      }\n    },\n    {\n      \"column\": \"Close\",\n      \"properties\": {\n        \"dtype\": \"number\",\n        \"std\": 12.218706782275339,\n        \"min\": 104.449997,\n        \"max\": 158.139999,\n        \"num_unique_values\": 246,\n        \"samples\": [\n          125.43,\n          105.120003,\n          140.360001\n        ],\n        \"semantic_type\": \"\",\n        \"description\": \"\"\n      }\n    },\n    {\n      \"column\": \"Adj Close\",\n      \"properties\": {\n        \"dtype\": \"number\",\n        \"std\": 12.218706782275339,\n        \"min\": 104.449997,\n        \"max\": 158.139999,\n        \"num_unique_values\": 246,\n        \"samples\": [\n          125.43,\n          105.120003,\n          140.360001\n        ],\n        \"semantic_type\": \"\",\n        \"description\": \"\"\n      }\n    },\n    {\n      \"column\": \"Volume\",\n      \"properties\": {\n        \"dtype\": \"number\",\n        \"std\": 8364012,\n        \"min\": 8828600,\n        \"max\": 58796100,\n        \"num_unique_values\": 252,\n        \"samples\": [\n          24117100,\n          17641400,\n          16233600\n        ],\n        \"semantic_type\": \"\",\n        \"description\": \"\"\n      }\n    }\n  ]\n}"
            }
          },
          "metadata": {},
          "execution_count": 4
        }
      ]
    },
    {
      "cell_type": "code",
      "source": [
        "Test_data.head()"
      ],
      "metadata": {
        "colab": {
          "base_uri": "https://localhost:8080/",
          "height": 206
        },
        "id": "ucHY9aHS6Uok",
        "outputId": "d703969f-f922-4b01-9542-8cce3cb713fe"
      },
      "execution_count": null,
      "outputs": [
        {
          "output_type": "execute_result",
          "data": {
            "text/plain": [
              "         Date       Open       High        Low      Close  Adj Close    Volume\n",
              "0  2021-01-11  89.303497  89.715752  88.026001  88.335999  88.335999  24194000\n",
              "1  2021-01-12  87.695999  88.902000  86.265503  87.327499  87.327499  27140000\n",
              "2  2021-01-13  86.929001  88.251747  86.900497  87.720001  87.720001  21882000\n",
              "3  2021-01-14  87.681000  88.750504  86.669998  87.009003  87.009003  23590000\n",
              "4  2021-01-15  86.909500  87.800003  86.077499  86.809502  86.809502  26844000"
            ],
            "text/html": [
              "\n",
              "  <div id=\"df-b53656cf-7fc0-4702-9b39-0002d13cfb2d\" class=\"colab-df-container\">\n",
              "    <div>\n",
              "<style scoped>\n",
              "    .dataframe tbody tr th:only-of-type {\n",
              "        vertical-align: middle;\n",
              "    }\n",
              "\n",
              "    .dataframe tbody tr th {\n",
              "        vertical-align: top;\n",
              "    }\n",
              "\n",
              "    .dataframe thead th {\n",
              "        text-align: right;\n",
              "    }\n",
              "</style>\n",
              "<table border=\"1\" class=\"dataframe\">\n",
              "  <thead>\n",
              "    <tr style=\"text-align: right;\">\n",
              "      <th></th>\n",
              "      <th>Date</th>\n",
              "      <th>Open</th>\n",
              "      <th>High</th>\n",
              "      <th>Low</th>\n",
              "      <th>Close</th>\n",
              "      <th>Adj Close</th>\n",
              "      <th>Volume</th>\n",
              "    </tr>\n",
              "  </thead>\n",
              "  <tbody>\n",
              "    <tr>\n",
              "      <th>0</th>\n",
              "      <td>2021-01-11</td>\n",
              "      <td>89.303497</td>\n",
              "      <td>89.715752</td>\n",
              "      <td>88.026001</td>\n",
              "      <td>88.335999</td>\n",
              "      <td>88.335999</td>\n",
              "      <td>24194000</td>\n",
              "    </tr>\n",
              "    <tr>\n",
              "      <th>1</th>\n",
              "      <td>2021-01-12</td>\n",
              "      <td>87.695999</td>\n",
              "      <td>88.902000</td>\n",
              "      <td>86.265503</td>\n",
              "      <td>87.327499</td>\n",
              "      <td>87.327499</td>\n",
              "      <td>27140000</td>\n",
              "    </tr>\n",
              "    <tr>\n",
              "      <th>2</th>\n",
              "      <td>2021-01-13</td>\n",
              "      <td>86.929001</td>\n",
              "      <td>88.251747</td>\n",
              "      <td>86.900497</td>\n",
              "      <td>87.720001</td>\n",
              "      <td>87.720001</td>\n",
              "      <td>21882000</td>\n",
              "    </tr>\n",
              "    <tr>\n",
              "      <th>3</th>\n",
              "      <td>2021-01-14</td>\n",
              "      <td>87.681000</td>\n",
              "      <td>88.750504</td>\n",
              "      <td>86.669998</td>\n",
              "      <td>87.009003</td>\n",
              "      <td>87.009003</td>\n",
              "      <td>23590000</td>\n",
              "    </tr>\n",
              "    <tr>\n",
              "      <th>4</th>\n",
              "      <td>2021-01-15</td>\n",
              "      <td>86.909500</td>\n",
              "      <td>87.800003</td>\n",
              "      <td>86.077499</td>\n",
              "      <td>86.809502</td>\n",
              "      <td>86.809502</td>\n",
              "      <td>26844000</td>\n",
              "    </tr>\n",
              "  </tbody>\n",
              "</table>\n",
              "</div>\n",
              "    <div class=\"colab-df-buttons\">\n",
              "\n",
              "  <div class=\"colab-df-container\">\n",
              "    <button class=\"colab-df-convert\" onclick=\"convertToInteractive('df-b53656cf-7fc0-4702-9b39-0002d13cfb2d')\"\n",
              "            title=\"Convert this dataframe to an interactive table.\"\n",
              "            style=\"display:none;\">\n",
              "\n",
              "  <svg xmlns=\"http://www.w3.org/2000/svg\" height=\"24px\" viewBox=\"0 -960 960 960\">\n",
              "    <path d=\"M120-120v-720h720v720H120Zm60-500h600v-160H180v160Zm220 220h160v-160H400v160Zm0 220h160v-160H400v160ZM180-400h160v-160H180v160Zm440 0h160v-160H620v160ZM180-180h160v-160H180v160Zm440 0h160v-160H620v160Z\"/>\n",
              "  </svg>\n",
              "    </button>\n",
              "\n",
              "  <style>\n",
              "    .colab-df-container {\n",
              "      display:flex;\n",
              "      gap: 12px;\n",
              "    }\n",
              "\n",
              "    .colab-df-convert {\n",
              "      background-color: #E8F0FE;\n",
              "      border: none;\n",
              "      border-radius: 50%;\n",
              "      cursor: pointer;\n",
              "      display: none;\n",
              "      fill: #1967D2;\n",
              "      height: 32px;\n",
              "      padding: 0 0 0 0;\n",
              "      width: 32px;\n",
              "    }\n",
              "\n",
              "    .colab-df-convert:hover {\n",
              "      background-color: #E2EBFA;\n",
              "      box-shadow: 0px 1px 2px rgba(60, 64, 67, 0.3), 0px 1px 3px 1px rgba(60, 64, 67, 0.15);\n",
              "      fill: #174EA6;\n",
              "    }\n",
              "\n",
              "    .colab-df-buttons div {\n",
              "      margin-bottom: 4px;\n",
              "    }\n",
              "\n",
              "    [theme=dark] .colab-df-convert {\n",
              "      background-color: #3B4455;\n",
              "      fill: #D2E3FC;\n",
              "    }\n",
              "\n",
              "    [theme=dark] .colab-df-convert:hover {\n",
              "      background-color: #434B5C;\n",
              "      box-shadow: 0px 1px 3px 1px rgba(0, 0, 0, 0.15);\n",
              "      filter: drop-shadow(0px 1px 2px rgba(0, 0, 0, 0.3));\n",
              "      fill: #FFFFFF;\n",
              "    }\n",
              "  </style>\n",
              "\n",
              "    <script>\n",
              "      const buttonEl =\n",
              "        document.querySelector('#df-b53656cf-7fc0-4702-9b39-0002d13cfb2d button.colab-df-convert');\n",
              "      buttonEl.style.display =\n",
              "        google.colab.kernel.accessAllowed ? 'block' : 'none';\n",
              "\n",
              "      async function convertToInteractive(key) {\n",
              "        const element = document.querySelector('#df-b53656cf-7fc0-4702-9b39-0002d13cfb2d');\n",
              "        const dataTable =\n",
              "          await google.colab.kernel.invokeFunction('convertToInteractive',\n",
              "                                                    [key], {});\n",
              "        if (!dataTable) return;\n",
              "\n",
              "        const docLinkHtml = 'Like what you see? Visit the ' +\n",
              "          '<a target=\"_blank\" href=https://colab.research.google.com/notebooks/data_table.ipynb>data table notebook</a>'\n",
              "          + ' to learn more about interactive tables.';\n",
              "        element.innerHTML = '';\n",
              "        dataTable['output_type'] = 'display_data';\n",
              "        await google.colab.output.renderOutput(dataTable, element);\n",
              "        const docLink = document.createElement('div');\n",
              "        docLink.innerHTML = docLinkHtml;\n",
              "        element.appendChild(docLink);\n",
              "      }\n",
              "    </script>\n",
              "  </div>\n",
              "\n",
              "\n",
              "<div id=\"df-d5f42567-a42d-4041-831a-a512a79a7a72\">\n",
              "  <button class=\"colab-df-quickchart\" onclick=\"quickchart('df-d5f42567-a42d-4041-831a-a512a79a7a72')\"\n",
              "            title=\"Suggest charts\"\n",
              "            style=\"display:none;\">\n",
              "\n",
              "<svg xmlns=\"http://www.w3.org/2000/svg\" height=\"24px\"viewBox=\"0 0 24 24\"\n",
              "     width=\"24px\">\n",
              "    <g>\n",
              "        <path d=\"M19 3H5c-1.1 0-2 .9-2 2v14c0 1.1.9 2 2 2h14c1.1 0 2-.9 2-2V5c0-1.1-.9-2-2-2zM9 17H7v-7h2v7zm4 0h-2V7h2v10zm4 0h-2v-4h2v4z\"/>\n",
              "    </g>\n",
              "</svg>\n",
              "  </button>\n",
              "\n",
              "<style>\n",
              "  .colab-df-quickchart {\n",
              "      --bg-color: #E8F0FE;\n",
              "      --fill-color: #1967D2;\n",
              "      --hover-bg-color: #E2EBFA;\n",
              "      --hover-fill-color: #174EA6;\n",
              "      --disabled-fill-color: #AAA;\n",
              "      --disabled-bg-color: #DDD;\n",
              "  }\n",
              "\n",
              "  [theme=dark] .colab-df-quickchart {\n",
              "      --bg-color: #3B4455;\n",
              "      --fill-color: #D2E3FC;\n",
              "      --hover-bg-color: #434B5C;\n",
              "      --hover-fill-color: #FFFFFF;\n",
              "      --disabled-bg-color: #3B4455;\n",
              "      --disabled-fill-color: #666;\n",
              "  }\n",
              "\n",
              "  .colab-df-quickchart {\n",
              "    background-color: var(--bg-color);\n",
              "    border: none;\n",
              "    border-radius: 50%;\n",
              "    cursor: pointer;\n",
              "    display: none;\n",
              "    fill: var(--fill-color);\n",
              "    height: 32px;\n",
              "    padding: 0;\n",
              "    width: 32px;\n",
              "  }\n",
              "\n",
              "  .colab-df-quickchart:hover {\n",
              "    background-color: var(--hover-bg-color);\n",
              "    box-shadow: 0 1px 2px rgba(60, 64, 67, 0.3), 0 1px 3px 1px rgba(60, 64, 67, 0.15);\n",
              "    fill: var(--button-hover-fill-color);\n",
              "  }\n",
              "\n",
              "  .colab-df-quickchart-complete:disabled,\n",
              "  .colab-df-quickchart-complete:disabled:hover {\n",
              "    background-color: var(--disabled-bg-color);\n",
              "    fill: var(--disabled-fill-color);\n",
              "    box-shadow: none;\n",
              "  }\n",
              "\n",
              "  .colab-df-spinner {\n",
              "    border: 2px solid var(--fill-color);\n",
              "    border-color: transparent;\n",
              "    border-bottom-color: var(--fill-color);\n",
              "    animation:\n",
              "      spin 1s steps(1) infinite;\n",
              "  }\n",
              "\n",
              "  @keyframes spin {\n",
              "    0% {\n",
              "      border-color: transparent;\n",
              "      border-bottom-color: var(--fill-color);\n",
              "      border-left-color: var(--fill-color);\n",
              "    }\n",
              "    20% {\n",
              "      border-color: transparent;\n",
              "      border-left-color: var(--fill-color);\n",
              "      border-top-color: var(--fill-color);\n",
              "    }\n",
              "    30% {\n",
              "      border-color: transparent;\n",
              "      border-left-color: var(--fill-color);\n",
              "      border-top-color: var(--fill-color);\n",
              "      border-right-color: var(--fill-color);\n",
              "    }\n",
              "    40% {\n",
              "      border-color: transparent;\n",
              "      border-right-color: var(--fill-color);\n",
              "      border-top-color: var(--fill-color);\n",
              "    }\n",
              "    60% {\n",
              "      border-color: transparent;\n",
              "      border-right-color: var(--fill-color);\n",
              "    }\n",
              "    80% {\n",
              "      border-color: transparent;\n",
              "      border-right-color: var(--fill-color);\n",
              "      border-bottom-color: var(--fill-color);\n",
              "    }\n",
              "    90% {\n",
              "      border-color: transparent;\n",
              "      border-bottom-color: var(--fill-color);\n",
              "    }\n",
              "  }\n",
              "</style>\n",
              "\n",
              "  <script>\n",
              "    async function quickchart(key) {\n",
              "      const quickchartButtonEl =\n",
              "        document.querySelector('#' + key + ' button');\n",
              "      quickchartButtonEl.disabled = true;  // To prevent multiple clicks.\n",
              "      quickchartButtonEl.classList.add('colab-df-spinner');\n",
              "      try {\n",
              "        const charts = await google.colab.kernel.invokeFunction(\n",
              "            'suggestCharts', [key], {});\n",
              "      } catch (error) {\n",
              "        console.error('Error during call to suggestCharts:', error);\n",
              "      }\n",
              "      quickchartButtonEl.classList.remove('colab-df-spinner');\n",
              "      quickchartButtonEl.classList.add('colab-df-quickchart-complete');\n",
              "    }\n",
              "    (() => {\n",
              "      let quickchartButtonEl =\n",
              "        document.querySelector('#df-d5f42567-a42d-4041-831a-a512a79a7a72 button');\n",
              "      quickchartButtonEl.style.display =\n",
              "        google.colab.kernel.accessAllowed ? 'block' : 'none';\n",
              "    })();\n",
              "  </script>\n",
              "</div>\n",
              "\n",
              "    </div>\n",
              "  </div>\n"
            ],
            "application/vnd.google.colaboratory.intrinsic+json": {
              "type": "dataframe",
              "variable_name": "Test_data",
              "summary": "{\n  \"name\": \"Test_data\",\n  \"rows\": 816,\n  \"fields\": [\n    {\n      \"column\": \"Date\",\n      \"properties\": {\n        \"dtype\": \"object\",\n        \"num_unique_values\": 816,\n        \"samples\": [\n          \"2021-10-20\",\n          \"2022-03-18\",\n          \"2023-12-26\"\n        ],\n        \"semantic_type\": \"\",\n        \"description\": \"\"\n      }\n    },\n    {\n      \"column\": \"Open\",\n      \"properties\": {\n        \"dtype\": \"number\",\n        \"std\": 18.11409476656518,\n        \"min\": 85.510002,\n        \"max\": 157.350006,\n        \"num_unique_values\": 791,\n        \"samples\": [\n          137.5,\n          103.587997,\n          112.949997\n        ],\n        \"semantic_type\": \"\",\n        \"description\": \"\"\n      }\n    },\n    {\n      \"column\": \"High\",\n      \"properties\": {\n        \"dtype\": \"number\",\n        \"std\": 18.058539014509815,\n        \"min\": 86.550003,\n        \"max\": 159.889999,\n        \"num_unique_values\": 804,\n        \"samples\": [\n          141.651505,\n          138.660004,\n          146.018997\n        ],\n        \"semantic_type\": \"\",\n        \"description\": \"\"\n      }\n    },\n    {\n      \"column\": \"Low\",\n      \"properties\": {\n        \"dtype\": \"number\",\n        \"std\": 18.047981038740474,\n        \"min\": 83.449997,\n        \"max\": 156.639999,\n        \"num_unique_values\": 803,\n        \"samples\": [\n          139.339005,\n          130.296494,\n          141.741501\n        ],\n        \"semantic_type\": \"\",\n        \"description\": \"\"\n      }\n    },\n    {\n      \"column\": \"Close\",\n      \"properties\": {\n        \"dtype\": \"number\",\n        \"std\": 18.063528384946174,\n        \"min\": 83.489998,\n        \"max\": 158.139999,\n        \"num_unique_values\": 797,\n        \"samples\": [\n          127.57,\n          134.589996,\n          113.363503\n        ],\n        \"semantic_type\": \"\",\n        \"description\": \"\"\n      }\n    },\n    {\n      \"column\": \"Adj Close\",\n      \"properties\": {\n        \"dtype\": \"number\",\n        \"std\": 18.063528384946174,\n        \"min\": 83.489998,\n        \"max\": 158.139999,\n        \"num_unique_values\": 797,\n        \"samples\": [\n          127.57,\n          134.589996,\n          113.363503\n        ],\n        \"semantic_type\": \"\",\n        \"description\": \"\"\n      }\n    },\n    {\n      \"column\": \"Volume\",\n      \"properties\": {\n        \"dtype\": \"number\",\n        \"std\": 10329564,\n        \"min\": 8567800,\n        \"max\": 97798600,\n        \"num_unique_values\": 812,\n        \"samples\": [\n          22928000,\n          20926300,\n          22198000\n        ],\n        \"semantic_type\": \"\",\n        \"description\": \"\"\n      }\n    }\n  ]\n}"
            }
          },
          "metadata": {},
          "execution_count": 5
        }
      ]
    },
    {
      "cell_type": "code",
      "source": [
        "Training_data.info()"
      ],
      "metadata": {
        "colab": {
          "base_uri": "https://localhost:8080/"
        },
        "id": "_cm-BSoC6W4M",
        "outputId": "2bf514d1-9076-4dc1-d2e9-f0678e08e566"
      },
      "execution_count": null,
      "outputs": [
        {
          "output_type": "stream",
          "name": "stdout",
          "text": [
            "<class 'pandas.core.frame.DataFrame'>\n",
            "RangeIndex: 252 entries, 0 to 251\n",
            "Data columns (total 7 columns):\n",
            " #   Column     Non-Null Count  Dtype  \n",
            "---  ------     --------------  -----  \n",
            " 0   Date       252 non-null    object \n",
            " 1   Open       252 non-null    float64\n",
            " 2   High       252 non-null    float64\n",
            " 3   Low        252 non-null    float64\n",
            " 4   Close      252 non-null    float64\n",
            " 5   Adj Close  252 non-null    float64\n",
            " 6   Volume     252 non-null    int64  \n",
            "dtypes: float64(5), int64(1), object(1)\n",
            "memory usage: 13.9+ KB\n"
          ]
        }
      ]
    },
    {
      "cell_type": "code",
      "source": [
        "training_data=Training_data.iloc[:,1:2].values"
      ],
      "metadata": {
        "id": "kbz3TAkX6lSc"
      },
      "execution_count": null,
      "outputs": []
    },
    {
      "cell_type": "code",
      "source": [
        "testing_data=Test_data.iloc[:,1:2].values"
      ],
      "metadata": {
        "id": "HIBN8i0jYddw"
      },
      "execution_count": null,
      "outputs": []
    },
    {
      "cell_type": "code",
      "source": [
        "training_data.shape,Training_data.shape"
      ],
      "metadata": {
        "id": "yT8r3SQB63VC",
        "colab": {
          "base_uri": "https://localhost:8080/"
        },
        "outputId": "db441d7a-c320-42f6-c12a-5dabb79c7fea"
      },
      "execution_count": null,
      "outputs": [
        {
          "output_type": "execute_result",
          "data": {
            "text/plain": [
              "((252, 1), (252, 7))"
            ]
          },
          "metadata": {},
          "execution_count": 8
        }
      ]
    },
    {
      "cell_type": "code",
      "source": [
        "testing_data.shape,Test_data.shape"
      ],
      "metadata": {
        "colab": {
          "base_uri": "https://localhost:8080/"
        },
        "id": "Tljt-_mYYfw-",
        "outputId": "2b779919-ad1d-4de0-df0f-419bc79e9111"
      },
      "execution_count": null,
      "outputs": [
        {
          "output_type": "execute_result",
          "data": {
            "text/plain": [
              "((816, 1), (816, 7))"
            ]
          },
          "metadata": {},
          "execution_count": 26
        }
      ]
    },
    {
      "cell_type": "code",
      "source": [
        "training_data[:5]"
      ],
      "metadata": {
        "colab": {
          "base_uri": "https://localhost:8080/"
        },
        "id": "dJyQLUCq67CI",
        "outputId": "e2d0b7a3-5dd7-4c34-c15e-8448f4c97b15"
      },
      "execution_count": null,
      "outputs": [
        {
          "output_type": "execute_result",
          "data": {
            "text/plain": [
              "array([[107.389999],\n",
              "       [106.919998],\n",
              "       [107.389999],\n",
              "       [106.470001],\n",
              "       [107.690002]])"
            ]
          },
          "metadata": {},
          "execution_count": 9
        }
      ]
    },
    {
      "cell_type": "code",
      "source": [
        "sc=MinMaxScaler()\n",
        "scaled_train_data=sc.fit_transform(training_data)"
      ],
      "metadata": {
        "id": "A9_mBaHc77Ee"
      },
      "execution_count": null,
      "outputs": []
    },
    {
      "cell_type": "code",
      "source": [
        "scaled_train_data[:5]"
      ],
      "metadata": {
        "colab": {
          "base_uri": "https://localhost:8080/"
        },
        "id": "UhfwU9BX85bR",
        "outputId": "976d2555-1aa6-4d79-820c-c80ff336b902"
      },
      "execution_count": null,
      "outputs": [
        {
          "output_type": "execute_result",
          "data": {
            "text/plain": [
              "array([[0.0597535 ],\n",
              "       [0.05090809],\n",
              "       [0.0597535 ],\n",
              "       [0.04243916],\n",
              "       [0.06539955]])"
            ]
          },
          "metadata": {},
          "execution_count": 11
        }
      ]
    },
    {
      "cell_type": "code",
      "source": [
        "sc=MinMaxScaler()\n",
        "scaled_test_data=sc.fit_transform(testing_data)"
      ],
      "metadata": {
        "id": "e6GsSqe9YxW4"
      },
      "execution_count": null,
      "outputs": []
    },
    {
      "cell_type": "code",
      "source": [
        "scaled_test_data[:5]"
      ],
      "metadata": {
        "colab": {
          "base_uri": "https://localhost:8080/"
        },
        "id": "cI6PaheEY27Y",
        "outputId": "a52abd5e-1ce8-4cfa-d079-d107052db864"
      },
      "execution_count": null,
      "outputs": [
        {
          "output_type": "execute_result",
          "data": {
            "text/plain": [
              "array([[0.05280477],\n",
              "       [0.03042869],\n",
              "       [0.01975221],\n",
              "       [0.0302199 ],\n",
              "       [0.01948076]])"
            ]
          },
          "metadata": {},
          "execution_count": 28
        }
      ]
    },
    {
      "cell_type": "markdown",
      "source": [
        "**Creating dataset for price prediction**"
      ],
      "metadata": {
        "id": "cmCa2Cra9DF3"
      }
    },
    {
      "cell_type": "code",
      "source": [
        "X_train=[]\n",
        "y_train=[]\n",
        "\n",
        "for i in range(50,225):\n",
        "  X_train.append(scaled_train_data[i-50:i,0])\n",
        "  y_train.append(scaled_train_data[i,0])\n",
        "\n",
        "X_train=np.array(X_train)\n",
        "y_train=np.array(y_train)"
      ],
      "metadata": {
        "id": "9TNYWsry8-L3"
      },
      "execution_count": null,
      "outputs": []
    },
    {
      "cell_type": "code",
      "source": [
        "X_test=[]\n",
        "y_test=[]\n",
        "\n",
        "for i in range(50,225):\n",
        "  X_test.append(scaled_test_data[i-50:i,0])\n",
        "  y_test.append(scaled_test_data[i,0])\n",
        "\n",
        "X_test=np.array(X_test)\n",
        "y_test=np.array(y_test)"
      ],
      "metadata": {
        "id": "GjMFMjUfY6U6"
      },
      "execution_count": null,
      "outputs": []
    },
    {
      "cell_type": "code",
      "source": [
        "X_train.shape,y_train.shape"
      ],
      "metadata": {
        "colab": {
          "base_uri": "https://localhost:8080/"
        },
        "id": "LTV1HckR9yN3",
        "outputId": "190cc8a9-9f82-4054-9ae3-5ad6f40dae51"
      },
      "execution_count": null,
      "outputs": [
        {
          "output_type": "execute_result",
          "data": {
            "text/plain": [
              "((175, 50, 1), (175,))"
            ]
          },
          "metadata": {},
          "execution_count": 30
        }
      ]
    },
    {
      "cell_type": "code",
      "source": [
        "X_train=X_train.reshape(175,50,1)"
      ],
      "metadata": {
        "id": "sopX7Lxx99c1"
      },
      "execution_count": null,
      "outputs": []
    },
    {
      "cell_type": "code",
      "source": [
        "X_train.shape"
      ],
      "metadata": {
        "colab": {
          "base_uri": "https://localhost:8080/"
        },
        "id": "Dz0_uzXF-zvC",
        "outputId": "996512c0-0cd2-46b3-95ad-7db3353594fe"
      },
      "execution_count": null,
      "outputs": [
        {
          "output_type": "execute_result",
          "data": {
            "text/plain": [
              "(175, 50, 1)"
            ]
          },
          "metadata": {},
          "execution_count": 32
        }
      ]
    },
    {
      "cell_type": "code",
      "source": [
        "model = keras.Sequential([keras.layers.SimpleRNN(100, activation=\"relu\", input_shape=(50,1), return_sequences=False),\n",
        "                          keras.layers.Dense(1, activation = \"linear\")])"
      ],
      "metadata": {
        "id": "3Pxo0836-2Nm"
      },
      "execution_count": null,
      "outputs": []
    },
    {
      "cell_type": "code",
      "source": [
        "model.compile(optimizer=\"adam\", loss=\"mse\")"
      ],
      "metadata": {
        "id": "dn896jwOCQmu"
      },
      "execution_count": null,
      "outputs": []
    },
    {
      "cell_type": "code",
      "source": [
        "model.summary()"
      ],
      "metadata": {
        "colab": {
          "base_uri": "https://localhost:8080/"
        },
        "id": "mZ4x7dQNCqjP",
        "outputId": "e604285e-8ed9-4060-df8c-f29551c766c4"
      },
      "execution_count": null,
      "outputs": [
        {
          "output_type": "stream",
          "name": "stdout",
          "text": [
            "Model: \"sequential\"\n",
            "_________________________________________________________________\n",
            " Layer (type)                Output Shape              Param #   \n",
            "=================================================================\n",
            " simple_rnn (SimpleRNN)      (None, 100)               10200     \n",
            "                                                                 \n",
            " dense (Dense)               (None, 1)                 101       \n",
            "                                                                 \n",
            "=================================================================\n",
            "Total params: 10,301\n",
            "Trainable params: 10,301\n",
            "Non-trainable params: 0\n",
            "_________________________________________________________________\n"
          ]
        }
      ]
    },
    {
      "cell_type": "code",
      "source": [
        "model.fit(X_train, y_train, epochs=100, batch_size=32)"
      ],
      "metadata": {
        "colab": {
          "base_uri": "https://localhost:8080/"
        },
        "id": "l2-hkag0CxHq",
        "outputId": "3dc160d4-f3a2-40b4-b628-4fba1ca1acb0"
      },
      "execution_count": null,
      "outputs": [
        {
          "output_type": "stream",
          "name": "stdout",
          "text": [
            "Epoch 1/100\n",
            "6/6 [==============================] - 3s 16ms/step - loss: 0.2281\n",
            "Epoch 2/100\n",
            "6/6 [==============================] - 0s 17ms/step - loss: 0.0230\n",
            "Epoch 3/100\n",
            "6/6 [==============================] - 0s 15ms/step - loss: 0.0119\n",
            "Epoch 4/100\n",
            "6/6 [==============================] - 0s 16ms/step - loss: 0.0054\n",
            "Epoch 5/100\n",
            "6/6 [==============================] - 0s 17ms/step - loss: 0.0058\n",
            "Epoch 6/100\n",
            "6/6 [==============================] - 0s 18ms/step - loss: 0.0050\n",
            "Epoch 7/100\n",
            "6/6 [==============================] - 0s 14ms/step - loss: 0.0043\n",
            "Epoch 8/100\n",
            "6/6 [==============================] - 0s 19ms/step - loss: 0.0039\n",
            "Epoch 9/100\n",
            "6/6 [==============================] - 0s 14ms/step - loss: 0.0040\n",
            "Epoch 10/100\n",
            "6/6 [==============================] - 0s 14ms/step - loss: 0.0040\n",
            "Epoch 11/100\n",
            "6/6 [==============================] - 0s 14ms/step - loss: 0.0037\n",
            "Epoch 12/100\n",
            "6/6 [==============================] - 0s 14ms/step - loss: 0.0038\n",
            "Epoch 13/100\n",
            "6/6 [==============================] - 0s 14ms/step - loss: 0.0038\n",
            "Epoch 14/100\n",
            "6/6 [==============================] - 0s 14ms/step - loss: 0.0036\n",
            "Epoch 15/100\n",
            "6/6 [==============================] - 0s 17ms/step - loss: 0.0037\n",
            "Epoch 16/100\n",
            "6/6 [==============================] - 0s 15ms/step - loss: 0.0035\n",
            "Epoch 17/100\n",
            "6/6 [==============================] - 0s 16ms/step - loss: 0.0035\n",
            "Epoch 18/100\n",
            "6/6 [==============================] - 0s 14ms/step - loss: 0.0035\n",
            "Epoch 19/100\n",
            "6/6 [==============================] - 0s 14ms/step - loss: 0.0035\n",
            "Epoch 20/100\n",
            "6/6 [==============================] - 0s 14ms/step - loss: 0.0034\n",
            "Epoch 21/100\n",
            "6/6 [==============================] - 0s 14ms/step - loss: 0.0034\n",
            "Epoch 22/100\n",
            "6/6 [==============================] - 0s 15ms/step - loss: 0.0034\n",
            "Epoch 23/100\n",
            "6/6 [==============================] - 0s 15ms/step - loss: 0.0033\n",
            "Epoch 24/100\n",
            "6/6 [==============================] - 0s 15ms/step - loss: 0.0033\n",
            "Epoch 25/100\n",
            "6/6 [==============================] - 0s 18ms/step - loss: 0.0033\n",
            "Epoch 26/100\n",
            "6/6 [==============================] - 0s 14ms/step - loss: 0.0031\n",
            "Epoch 27/100\n",
            "6/6 [==============================] - 0s 15ms/step - loss: 0.0031\n",
            "Epoch 28/100\n",
            "6/6 [==============================] - 0s 14ms/step - loss: 0.0031\n",
            "Epoch 29/100\n",
            "6/6 [==============================] - 0s 14ms/step - loss: 0.0030\n",
            "Epoch 30/100\n",
            "6/6 [==============================] - 0s 14ms/step - loss: 0.0031\n",
            "Epoch 31/100\n",
            "6/6 [==============================] - 0s 16ms/step - loss: 0.0030\n",
            "Epoch 32/100\n",
            "6/6 [==============================] - 0s 14ms/step - loss: 0.0030\n",
            "Epoch 33/100\n",
            "6/6 [==============================] - 0s 15ms/step - loss: 0.0031\n",
            "Epoch 34/100\n",
            "6/6 [==============================] - 0s 14ms/step - loss: 0.0032\n",
            "Epoch 35/100\n",
            "6/6 [==============================] - 0s 15ms/step - loss: 0.0031\n",
            "Epoch 36/100\n",
            "6/6 [==============================] - 0s 17ms/step - loss: 0.0030\n",
            "Epoch 37/100\n",
            "6/6 [==============================] - 0s 14ms/step - loss: 0.0031\n",
            "Epoch 38/100\n",
            "6/6 [==============================] - 0s 13ms/step - loss: 0.0029\n",
            "Epoch 39/100\n",
            "6/6 [==============================] - 0s 15ms/step - loss: 0.0028\n",
            "Epoch 40/100\n",
            "6/6 [==============================] - 0s 14ms/step - loss: 0.0028\n",
            "Epoch 41/100\n",
            "6/6 [==============================] - 0s 14ms/step - loss: 0.0030\n",
            "Epoch 42/100\n",
            "6/6 [==============================] - 0s 15ms/step - loss: 0.0030\n",
            "Epoch 43/100\n",
            "6/6 [==============================] - 0s 17ms/step - loss: 0.0028\n",
            "Epoch 44/100\n",
            "6/6 [==============================] - 0s 15ms/step - loss: 0.0027\n",
            "Epoch 45/100\n",
            "6/6 [==============================] - 0s 14ms/step - loss: 0.0027\n",
            "Epoch 46/100\n",
            "6/6 [==============================] - 0s 15ms/step - loss: 0.0026\n",
            "Epoch 47/100\n",
            "6/6 [==============================] - 0s 16ms/step - loss: 0.0026\n",
            "Epoch 48/100\n",
            "6/6 [==============================] - 0s 15ms/step - loss: 0.0026\n",
            "Epoch 49/100\n",
            "6/6 [==============================] - 0s 14ms/step - loss: 0.0025\n",
            "Epoch 50/100\n",
            "6/6 [==============================] - 0s 14ms/step - loss: 0.0025\n",
            "Epoch 51/100\n",
            "6/6 [==============================] - 0s 14ms/step - loss: 0.0026\n",
            "Epoch 52/100\n",
            "6/6 [==============================] - 0s 14ms/step - loss: 0.0025\n",
            "Epoch 53/100\n",
            "6/6 [==============================] - 0s 14ms/step - loss: 0.0026\n",
            "Epoch 54/100\n",
            "6/6 [==============================] - 0s 16ms/step - loss: 0.0025\n",
            "Epoch 55/100\n",
            "6/6 [==============================] - 0s 14ms/step - loss: 0.0025\n",
            "Epoch 56/100\n",
            "6/6 [==============================] - 0s 15ms/step - loss: 0.0025\n",
            "Epoch 57/100\n",
            "6/6 [==============================] - 0s 14ms/step - loss: 0.0025\n",
            "Epoch 58/100\n",
            "6/6 [==============================] - 0s 16ms/step - loss: 0.0025\n",
            "Epoch 59/100\n",
            "6/6 [==============================] - 0s 14ms/step - loss: 0.0024\n",
            "Epoch 60/100\n",
            "6/6 [==============================] - 0s 14ms/step - loss: 0.0024\n",
            "Epoch 61/100\n",
            "6/6 [==============================] - 0s 15ms/step - loss: 0.0025\n",
            "Epoch 62/100\n",
            "6/6 [==============================] - 0s 15ms/step - loss: 0.0024\n",
            "Epoch 63/100\n",
            "6/6 [==============================] - 0s 15ms/step - loss: 0.0024\n",
            "Epoch 64/100\n",
            "6/6 [==============================] - 0s 14ms/step - loss: 0.0025\n",
            "Epoch 65/100\n",
            "6/6 [==============================] - 0s 14ms/step - loss: 0.0026\n",
            "Epoch 66/100\n",
            "6/6 [==============================] - 0s 14ms/step - loss: 0.0023\n",
            "Epoch 67/100\n",
            "6/6 [==============================] - 0s 15ms/step - loss: 0.0024\n",
            "Epoch 68/100\n",
            "6/6 [==============================] - 0s 14ms/step - loss: 0.0023\n",
            "Epoch 69/100\n",
            "6/6 [==============================] - 0s 18ms/step - loss: 0.0023\n",
            "Epoch 70/100\n",
            "6/6 [==============================] - 0s 14ms/step - loss: 0.0023\n",
            "Epoch 71/100\n",
            "6/6 [==============================] - 0s 14ms/step - loss: 0.0023\n",
            "Epoch 72/100\n",
            "6/6 [==============================] - 0s 14ms/step - loss: 0.0024\n",
            "Epoch 73/100\n",
            "6/6 [==============================] - 0s 15ms/step - loss: 0.0023\n",
            "Epoch 74/100\n",
            "6/6 [==============================] - 0s 15ms/step - loss: 0.0023\n",
            "Epoch 75/100\n",
            "6/6 [==============================] - 0s 15ms/step - loss: 0.0024\n",
            "Epoch 76/100\n",
            "6/6 [==============================] - 0s 14ms/step - loss: 0.0023\n",
            "Epoch 77/100\n",
            "6/6 [==============================] - 0s 14ms/step - loss: 0.0022\n",
            "Epoch 78/100\n",
            "6/6 [==============================] - 0s 15ms/step - loss: 0.0023\n",
            "Epoch 79/100\n",
            "6/6 [==============================] - 0s 15ms/step - loss: 0.0024\n",
            "Epoch 80/100\n",
            "6/6 [==============================] - 0s 17ms/step - loss: 0.0024\n",
            "Epoch 81/100\n",
            "6/6 [==============================] - 0s 14ms/step - loss: 0.0026\n",
            "Epoch 82/100\n",
            "6/6 [==============================] - 0s 15ms/step - loss: 0.0026\n",
            "Epoch 83/100\n",
            "6/6 [==============================] - 0s 15ms/step - loss: 0.0026\n",
            "Epoch 84/100\n",
            "6/6 [==============================] - 0s 14ms/step - loss: 0.0023\n",
            "Epoch 85/100\n",
            "6/6 [==============================] - 0s 14ms/step - loss: 0.0022\n",
            "Epoch 86/100\n",
            "6/6 [==============================] - 0s 15ms/step - loss: 0.0022\n",
            "Epoch 87/100\n",
            "6/6 [==============================] - 0s 15ms/step - loss: 0.0022\n",
            "Epoch 88/100\n",
            "6/6 [==============================] - 0s 14ms/step - loss: 0.0022\n",
            "Epoch 89/100\n",
            "6/6 [==============================] - 0s 14ms/step - loss: 0.0022\n",
            "Epoch 90/100\n",
            "6/6 [==============================] - 0s 14ms/step - loss: 0.0022\n",
            "Epoch 91/100\n",
            "6/6 [==============================] - 0s 16ms/step - loss: 0.0022\n",
            "Epoch 92/100\n",
            "6/6 [==============================] - 0s 22ms/step - loss: 0.0022\n",
            "Epoch 93/100\n",
            "6/6 [==============================] - 0s 20ms/step - loss: 0.0022\n",
            "Epoch 94/100\n",
            "6/6 [==============================] - 0s 22ms/step - loss: 0.0021\n",
            "Epoch 95/100\n",
            "6/6 [==============================] - 0s 22ms/step - loss: 0.0021\n",
            "Epoch 96/100\n",
            "6/6 [==============================] - 0s 27ms/step - loss: 0.0022\n",
            "Epoch 97/100\n",
            "6/6 [==============================] - 0s 25ms/step - loss: 0.0023\n",
            "Epoch 98/100\n",
            "6/6 [==============================] - 0s 25ms/step - loss: 0.0023\n",
            "Epoch 99/100\n",
            "6/6 [==============================] - 0s 21ms/step - loss: 0.0022\n",
            "Epoch 100/100\n",
            "6/6 [==============================] - 0s 20ms/step - loss: 0.0024\n"
          ]
        },
        {
          "output_type": "execute_result",
          "data": {
            "text/plain": [
              "<keras.callbacks.History at 0x7806a0b65210>"
            ]
          },
          "metadata": {},
          "execution_count": 19
        }
      ]
    },
    {
      "cell_type": "code",
      "source": [
        "model.evaluate(X_test,y_test)"
      ],
      "metadata": {
        "colab": {
          "base_uri": "https://localhost:8080/"
        },
        "id": "3G-IrNRTYODI",
        "outputId": "f39604c7-fec7-4576-9147-477cadbe03d0"
      },
      "execution_count": null,
      "outputs": [
        {
          "output_type": "stream",
          "name": "stdout",
          "text": [
            "6/6 [==============================] - 0s 6ms/step - loss: 0.5920\n"
          ]
        },
        {
          "output_type": "execute_result",
          "data": {
            "text/plain": [
              "0.592029869556427"
            ]
          },
          "metadata": {},
          "execution_count": 35
        }
      ]
    },
    {
      "cell_type": "code",
      "source": [],
      "metadata": {
        "id": "qA5j1hgvXxZc"
      },
      "execution_count": null,
      "outputs": []
    }
  ]
}