{
  "nbformat": 4,
  "nbformat_minor": 0,
  "metadata": {
    "colab": {
      "provenance": []
    },
    "kernelspec": {
      "name": "python3",
      "display_name": "Python 3"
    },
    "language_info": {
      "name": "python"
    },
    "accelerator": "TPU"
  },
  "cells": [
    {
      "cell_type": "markdown",
      "source": [
        "# **Practical 10**"
      ],
      "metadata": {
        "id": "GDjuTHEybBKf"
      }
    },
    {
      "cell_type": "markdown",
      "source": [
        "# **Implementation of GRU on Gold Price Prediction**"
      ],
      "metadata": {
        "id": "SGFblrVnbKwx"
      }
    },
    {
      "cell_type": "code",
      "execution_count": null,
      "metadata": {
        "id": "Bi5ki3BsKmZb"
      },
      "outputs": [],
      "source": [
        "import numpy as np\n",
        "import pandas as pd\n",
        "import tensorflow as tf\n",
        "from tensorflow import keras\n",
        "import matplotlib.pyplot as plt\n",
        "from sklearn.preprocessing import MinMaxScaler"
      ]
    },
    {
      "cell_type": "code",
      "source": [
        "data=pd.read_csv(\"/content/drive/MyDrive/datasets/datasets/Train_GoldPrice_RNN.csv\")"
      ],
      "metadata": {
        "id": "SJpfJBLHLrIy"
      },
      "execution_count": null,
      "outputs": []
    },
    {
      "cell_type": "code",
      "source": [
        "data"
      ],
      "metadata": {
        "colab": {
          "base_uri": "https://localhost:8080/",
          "height": 423
        },
        "id": "v648uBYtL1NV",
        "outputId": "a3a74ccf-9c56-43fd-ba07-728c0f9e1ed2"
      },
      "execution_count": null,
      "outputs": [
        {
          "output_type": "execute_result",
          "data": {
            "text/plain": [
              "            Date  Close/Last    Volume    Open    High     Low\n",
              "0     04/18/2024      2398.0  195493.0  2377.9  2408.0  2377.2\n",
              "1     04/17/2024      2388.4  279551.0  2398.0  2412.0  2370.7\n",
              "2     04/16/2024      2407.8  290700.0  2399.1  2414.8  2379.2\n",
              "3     04/15/2024      2383.0  336608.0  2369.4  2404.3  2340.2\n",
              "4     04/12/2024      2374.1  463075.0  2389.4  2448.8  2350.6\n",
              "...          ...         ...       ...     ...     ...     ...\n",
              "1253  04/26/2019      1288.8  268033.0  1279.1  1290.9  1276.0\n",
              "1254  04/25/2019      1279.7  230543.0  1277.9  1284.8  1275.2\n",
              "1255  04/24/2019      1279.4  235966.0  1274.4  1280.7  1270.5\n",
              "1256  04/23/2019      1273.2  271377.0  1277.0  1278.5  1267.9\n",
              "1257  04/22/2019      1277.6  133327.0  1278.0  1281.9  1275.7\n",
              "\n",
              "[1258 rows x 6 columns]"
            ],
            "text/html": [
              "\n",
              "  <div id=\"df-d5522051-f9de-4a91-98d5-814ccec91cd5\" class=\"colab-df-container\">\n",
              "    <div>\n",
              "<style scoped>\n",
              "    .dataframe tbody tr th:only-of-type {\n",
              "        vertical-align: middle;\n",
              "    }\n",
              "\n",
              "    .dataframe tbody tr th {\n",
              "        vertical-align: top;\n",
              "    }\n",
              "\n",
              "    .dataframe thead th {\n",
              "        text-align: right;\n",
              "    }\n",
              "</style>\n",
              "<table border=\"1\" class=\"dataframe\">\n",
              "  <thead>\n",
              "    <tr style=\"text-align: right;\">\n",
              "      <th></th>\n",
              "      <th>Date</th>\n",
              "      <th>Close/Last</th>\n",
              "      <th>Volume</th>\n",
              "      <th>Open</th>\n",
              "      <th>High</th>\n",
              "      <th>Low</th>\n",
              "    </tr>\n",
              "  </thead>\n",
              "  <tbody>\n",
              "    <tr>\n",
              "      <th>0</th>\n",
              "      <td>04/18/2024</td>\n",
              "      <td>2398.0</td>\n",
              "      <td>195493.0</td>\n",
              "      <td>2377.9</td>\n",
              "      <td>2408.0</td>\n",
              "      <td>2377.2</td>\n",
              "    </tr>\n",
              "    <tr>\n",
              "      <th>1</th>\n",
              "      <td>04/17/2024</td>\n",
              "      <td>2388.4</td>\n",
              "      <td>279551.0</td>\n",
              "      <td>2398.0</td>\n",
              "      <td>2412.0</td>\n",
              "      <td>2370.7</td>\n",
              "    </tr>\n",
              "    <tr>\n",
              "      <th>2</th>\n",
              "      <td>04/16/2024</td>\n",
              "      <td>2407.8</td>\n",
              "      <td>290700.0</td>\n",
              "      <td>2399.1</td>\n",
              "      <td>2414.8</td>\n",
              "      <td>2379.2</td>\n",
              "    </tr>\n",
              "    <tr>\n",
              "      <th>3</th>\n",
              "      <td>04/15/2024</td>\n",
              "      <td>2383.0</td>\n",
              "      <td>336608.0</td>\n",
              "      <td>2369.4</td>\n",
              "      <td>2404.3</td>\n",
              "      <td>2340.2</td>\n",
              "    </tr>\n",
              "    <tr>\n",
              "      <th>4</th>\n",
              "      <td>04/12/2024</td>\n",
              "      <td>2374.1</td>\n",
              "      <td>463075.0</td>\n",
              "      <td>2389.4</td>\n",
              "      <td>2448.8</td>\n",
              "      <td>2350.6</td>\n",
              "    </tr>\n",
              "    <tr>\n",
              "      <th>...</th>\n",
              "      <td>...</td>\n",
              "      <td>...</td>\n",
              "      <td>...</td>\n",
              "      <td>...</td>\n",
              "      <td>...</td>\n",
              "      <td>...</td>\n",
              "    </tr>\n",
              "    <tr>\n",
              "      <th>1253</th>\n",
              "      <td>04/26/2019</td>\n",
              "      <td>1288.8</td>\n",
              "      <td>268033.0</td>\n",
              "      <td>1279.1</td>\n",
              "      <td>1290.9</td>\n",
              "      <td>1276.0</td>\n",
              "    </tr>\n",
              "    <tr>\n",
              "      <th>1254</th>\n",
              "      <td>04/25/2019</td>\n",
              "      <td>1279.7</td>\n",
              "      <td>230543.0</td>\n",
              "      <td>1277.9</td>\n",
              "      <td>1284.8</td>\n",
              "      <td>1275.2</td>\n",
              "    </tr>\n",
              "    <tr>\n",
              "      <th>1255</th>\n",
              "      <td>04/24/2019</td>\n",
              "      <td>1279.4</td>\n",
              "      <td>235966.0</td>\n",
              "      <td>1274.4</td>\n",
              "      <td>1280.7</td>\n",
              "      <td>1270.5</td>\n",
              "    </tr>\n",
              "    <tr>\n",
              "      <th>1256</th>\n",
              "      <td>04/23/2019</td>\n",
              "      <td>1273.2</td>\n",
              "      <td>271377.0</td>\n",
              "      <td>1277.0</td>\n",
              "      <td>1278.5</td>\n",
              "      <td>1267.9</td>\n",
              "    </tr>\n",
              "    <tr>\n",
              "      <th>1257</th>\n",
              "      <td>04/22/2019</td>\n",
              "      <td>1277.6</td>\n",
              "      <td>133327.0</td>\n",
              "      <td>1278.0</td>\n",
              "      <td>1281.9</td>\n",
              "      <td>1275.7</td>\n",
              "    </tr>\n",
              "  </tbody>\n",
              "</table>\n",
              "<p>1258 rows × 6 columns</p>\n",
              "</div>\n",
              "    <div class=\"colab-df-buttons\">\n",
              "\n",
              "  <div class=\"colab-df-container\">\n",
              "    <button class=\"colab-df-convert\" onclick=\"convertToInteractive('df-d5522051-f9de-4a91-98d5-814ccec91cd5')\"\n",
              "            title=\"Convert this dataframe to an interactive table.\"\n",
              "            style=\"display:none;\">\n",
              "\n",
              "  <svg xmlns=\"http://www.w3.org/2000/svg\" height=\"24px\" viewBox=\"0 -960 960 960\">\n",
              "    <path d=\"M120-120v-720h720v720H120Zm60-500h600v-160H180v160Zm220 220h160v-160H400v160Zm0 220h160v-160H400v160ZM180-400h160v-160H180v160Zm440 0h160v-160H620v160ZM180-180h160v-160H180v160Zm440 0h160v-160H620v160Z\"/>\n",
              "  </svg>\n",
              "    </button>\n",
              "\n",
              "  <style>\n",
              "    .colab-df-container {\n",
              "      display:flex;\n",
              "      gap: 12px;\n",
              "    }\n",
              "\n",
              "    .colab-df-convert {\n",
              "      background-color: #E8F0FE;\n",
              "      border: none;\n",
              "      border-radius: 50%;\n",
              "      cursor: pointer;\n",
              "      display: none;\n",
              "      fill: #1967D2;\n",
              "      height: 32px;\n",
              "      padding: 0 0 0 0;\n",
              "      width: 32px;\n",
              "    }\n",
              "\n",
              "    .colab-df-convert:hover {\n",
              "      background-color: #E2EBFA;\n",
              "      box-shadow: 0px 1px 2px rgba(60, 64, 67, 0.3), 0px 1px 3px 1px rgba(60, 64, 67, 0.15);\n",
              "      fill: #174EA6;\n",
              "    }\n",
              "\n",
              "    .colab-df-buttons div {\n",
              "      margin-bottom: 4px;\n",
              "    }\n",
              "\n",
              "    [theme=dark] .colab-df-convert {\n",
              "      background-color: #3B4455;\n",
              "      fill: #D2E3FC;\n",
              "    }\n",
              "\n",
              "    [theme=dark] .colab-df-convert:hover {\n",
              "      background-color: #434B5C;\n",
              "      box-shadow: 0px 1px 3px 1px rgba(0, 0, 0, 0.15);\n",
              "      filter: drop-shadow(0px 1px 2px rgba(0, 0, 0, 0.3));\n",
              "      fill: #FFFFFF;\n",
              "    }\n",
              "  </style>\n",
              "\n",
              "    <script>\n",
              "      const buttonEl =\n",
              "        document.querySelector('#df-d5522051-f9de-4a91-98d5-814ccec91cd5 button.colab-df-convert');\n",
              "      buttonEl.style.display =\n",
              "        google.colab.kernel.accessAllowed ? 'block' : 'none';\n",
              "\n",
              "      async function convertToInteractive(key) {\n",
              "        const element = document.querySelector('#df-d5522051-f9de-4a91-98d5-814ccec91cd5');\n",
              "        const dataTable =\n",
              "          await google.colab.kernel.invokeFunction('convertToInteractive',\n",
              "                                                    [key], {});\n",
              "        if (!dataTable) return;\n",
              "\n",
              "        const docLinkHtml = 'Like what you see? Visit the ' +\n",
              "          '<a target=\"_blank\" href=https://colab.research.google.com/notebooks/data_table.ipynb>data table notebook</a>'\n",
              "          + ' to learn more about interactive tables.';\n",
              "        element.innerHTML = '';\n",
              "        dataTable['output_type'] = 'display_data';\n",
              "        await google.colab.output.renderOutput(dataTable, element);\n",
              "        const docLink = document.createElement('div');\n",
              "        docLink.innerHTML = docLinkHtml;\n",
              "        element.appendChild(docLink);\n",
              "      }\n",
              "    </script>\n",
              "  </div>\n",
              "\n",
              "\n",
              "<div id=\"df-31f63b03-03eb-427c-be18-0061524eab15\">\n",
              "  <button class=\"colab-df-quickchart\" onclick=\"quickchart('df-31f63b03-03eb-427c-be18-0061524eab15')\"\n",
              "            title=\"Suggest charts\"\n",
              "            style=\"display:none;\">\n",
              "\n",
              "<svg xmlns=\"http://www.w3.org/2000/svg\" height=\"24px\"viewBox=\"0 0 24 24\"\n",
              "     width=\"24px\">\n",
              "    <g>\n",
              "        <path d=\"M19 3H5c-1.1 0-2 .9-2 2v14c0 1.1.9 2 2 2h14c1.1 0 2-.9 2-2V5c0-1.1-.9-2-2-2zM9 17H7v-7h2v7zm4 0h-2V7h2v10zm4 0h-2v-4h2v4z\"/>\n",
              "    </g>\n",
              "</svg>\n",
              "  </button>\n",
              "\n",
              "<style>\n",
              "  .colab-df-quickchart {\n",
              "      --bg-color: #E8F0FE;\n",
              "      --fill-color: #1967D2;\n",
              "      --hover-bg-color: #E2EBFA;\n",
              "      --hover-fill-color: #174EA6;\n",
              "      --disabled-fill-color: #AAA;\n",
              "      --disabled-bg-color: #DDD;\n",
              "  }\n",
              "\n",
              "  [theme=dark] .colab-df-quickchart {\n",
              "      --bg-color: #3B4455;\n",
              "      --fill-color: #D2E3FC;\n",
              "      --hover-bg-color: #434B5C;\n",
              "      --hover-fill-color: #FFFFFF;\n",
              "      --disabled-bg-color: #3B4455;\n",
              "      --disabled-fill-color: #666;\n",
              "  }\n",
              "\n",
              "  .colab-df-quickchart {\n",
              "    background-color: var(--bg-color);\n",
              "    border: none;\n",
              "    border-radius: 50%;\n",
              "    cursor: pointer;\n",
              "    display: none;\n",
              "    fill: var(--fill-color);\n",
              "    height: 32px;\n",
              "    padding: 0;\n",
              "    width: 32px;\n",
              "  }\n",
              "\n",
              "  .colab-df-quickchart:hover {\n",
              "    background-color: var(--hover-bg-color);\n",
              "    box-shadow: 0 1px 2px rgba(60, 64, 67, 0.3), 0 1px 3px 1px rgba(60, 64, 67, 0.15);\n",
              "    fill: var(--button-hover-fill-color);\n",
              "  }\n",
              "\n",
              "  .colab-df-quickchart-complete:disabled,\n",
              "  .colab-df-quickchart-complete:disabled:hover {\n",
              "    background-color: var(--disabled-bg-color);\n",
              "    fill: var(--disabled-fill-color);\n",
              "    box-shadow: none;\n",
              "  }\n",
              "\n",
              "  .colab-df-spinner {\n",
              "    border: 2px solid var(--fill-color);\n",
              "    border-color: transparent;\n",
              "    border-bottom-color: var(--fill-color);\n",
              "    animation:\n",
              "      spin 1s steps(1) infinite;\n",
              "  }\n",
              "\n",
              "  @keyframes spin {\n",
              "    0% {\n",
              "      border-color: transparent;\n",
              "      border-bottom-color: var(--fill-color);\n",
              "      border-left-color: var(--fill-color);\n",
              "    }\n",
              "    20% {\n",
              "      border-color: transparent;\n",
              "      border-left-color: var(--fill-color);\n",
              "      border-top-color: var(--fill-color);\n",
              "    }\n",
              "    30% {\n",
              "      border-color: transparent;\n",
              "      border-left-color: var(--fill-color);\n",
              "      border-top-color: var(--fill-color);\n",
              "      border-right-color: var(--fill-color);\n",
              "    }\n",
              "    40% {\n",
              "      border-color: transparent;\n",
              "      border-right-color: var(--fill-color);\n",
              "      border-top-color: var(--fill-color);\n",
              "    }\n",
              "    60% {\n",
              "      border-color: transparent;\n",
              "      border-right-color: var(--fill-color);\n",
              "    }\n",
              "    80% {\n",
              "      border-color: transparent;\n",
              "      border-right-color: var(--fill-color);\n",
              "      border-bottom-color: var(--fill-color);\n",
              "    }\n",
              "    90% {\n",
              "      border-color: transparent;\n",
              "      border-bottom-color: var(--fill-color);\n",
              "    }\n",
              "  }\n",
              "</style>\n",
              "\n",
              "  <script>\n",
              "    async function quickchart(key) {\n",
              "      const quickchartButtonEl =\n",
              "        document.querySelector('#' + key + ' button');\n",
              "      quickchartButtonEl.disabled = true;  // To prevent multiple clicks.\n",
              "      quickchartButtonEl.classList.add('colab-df-spinner');\n",
              "      try {\n",
              "        const charts = await google.colab.kernel.invokeFunction(\n",
              "            'suggestCharts', [key], {});\n",
              "      } catch (error) {\n",
              "        console.error('Error during call to suggestCharts:', error);\n",
              "      }\n",
              "      quickchartButtonEl.classList.remove('colab-df-spinner');\n",
              "      quickchartButtonEl.classList.add('colab-df-quickchart-complete');\n",
              "    }\n",
              "    (() => {\n",
              "      let quickchartButtonEl =\n",
              "        document.querySelector('#df-31f63b03-03eb-427c-be18-0061524eab15 button');\n",
              "      quickchartButtonEl.style.display =\n",
              "        google.colab.kernel.accessAllowed ? 'block' : 'none';\n",
              "    })();\n",
              "  </script>\n",
              "</div>\n",
              "\n",
              "  <div id=\"id_42da6468-2ed4-482b-bbbd-addaee4e1238\">\n",
              "    <style>\n",
              "      .colab-df-generate {\n",
              "        background-color: #E8F0FE;\n",
              "        border: none;\n",
              "        border-radius: 50%;\n",
              "        cursor: pointer;\n",
              "        display: none;\n",
              "        fill: #1967D2;\n",
              "        height: 32px;\n",
              "        padding: 0 0 0 0;\n",
              "        width: 32px;\n",
              "      }\n",
              "\n",
              "      .colab-df-generate:hover {\n",
              "        background-color: #E2EBFA;\n",
              "        box-shadow: 0px 1px 2px rgba(60, 64, 67, 0.3), 0px 1px 3px 1px rgba(60, 64, 67, 0.15);\n",
              "        fill: #174EA6;\n",
              "      }\n",
              "\n",
              "      [theme=dark] .colab-df-generate {\n",
              "        background-color: #3B4455;\n",
              "        fill: #D2E3FC;\n",
              "      }\n",
              "\n",
              "      [theme=dark] .colab-df-generate:hover {\n",
              "        background-color: #434B5C;\n",
              "        box-shadow: 0px 1px 3px 1px rgba(0, 0, 0, 0.15);\n",
              "        filter: drop-shadow(0px 1px 2px rgba(0, 0, 0, 0.3));\n",
              "        fill: #FFFFFF;\n",
              "      }\n",
              "    </style>\n",
              "    <button class=\"colab-df-generate\" onclick=\"generateWithVariable('data')\"\n",
              "            title=\"Generate code using this dataframe.\"\n",
              "            style=\"display:none;\">\n",
              "\n",
              "  <svg xmlns=\"http://www.w3.org/2000/svg\" height=\"24px\"viewBox=\"0 0 24 24\"\n",
              "       width=\"24px\">\n",
              "    <path d=\"M7,19H8.4L18.45,9,17,7.55,7,17.6ZM5,21V16.75L18.45,3.32a2,2,0,0,1,2.83,0l1.4,1.43a1.91,1.91,0,0,1,.58,1.4,1.91,1.91,0,0,1-.58,1.4L9.25,21ZM18.45,9,17,7.55Zm-12,3A5.31,5.31,0,0,0,4.9,8.1,5.31,5.31,0,0,0,1,6.5,5.31,5.31,0,0,0,4.9,4.9,5.31,5.31,0,0,0,6.5,1,5.31,5.31,0,0,0,8.1,4.9,5.31,5.31,0,0,0,12,6.5,5.46,5.46,0,0,0,6.5,12Z\"/>\n",
              "  </svg>\n",
              "    </button>\n",
              "    <script>\n",
              "      (() => {\n",
              "      const buttonEl =\n",
              "        document.querySelector('#id_42da6468-2ed4-482b-bbbd-addaee4e1238 button.colab-df-generate');\n",
              "      buttonEl.style.display =\n",
              "        google.colab.kernel.accessAllowed ? 'block' : 'none';\n",
              "\n",
              "      buttonEl.onclick = () => {\n",
              "        google.colab.notebook.generateWithVariable('data');\n",
              "      }\n",
              "      })();\n",
              "    </script>\n",
              "  </div>\n",
              "\n",
              "    </div>\n",
              "  </div>\n"
            ],
            "application/vnd.google.colaboratory.intrinsic+json": {
              "type": "dataframe",
              "variable_name": "data",
              "summary": "{\n  \"name\": \"data\",\n  \"rows\": 1258,\n  \"fields\": [\n    {\n      \"column\": \"Date\",\n      \"properties\": {\n        \"dtype\": \"object\",\n        \"num_unique_values\": 1258,\n        \"samples\": [\n          \"01/24/2022\",\n          \"11/21/2023\",\n          \"02/05/2024\"\n        ],\n        \"semantic_type\": \"\",\n        \"description\": \"\"\n      }\n    },\n    {\n      \"column\": \"Close/Last\",\n      \"properties\": {\n        \"dtype\": \"number\",\n        \"std\": 196.49399716790805,\n        \"min\": 1272.0,\n        \"max\": 2407.8,\n        \"num_unique_values\": 1135,\n        \"samples\": [\n          1951.7,\n          1768.9,\n          1769.2\n        ],\n        \"semantic_type\": \"\",\n        \"description\": \"\"\n      }\n    },\n    {\n      \"column\": \"Volume\",\n      \"properties\": {\n        \"dtype\": \"number\",\n        \"std\": 104763.78017599476,\n        \"min\": 1.0,\n        \"max\": 787217.0,\n        \"num_unique_values\": 1248,\n        \"samples\": [\n          157414.0,\n          260044.0,\n          196763.0\n        ],\n        \"semantic_type\": \"\",\n        \"description\": \"\"\n      }\n    },\n    {\n      \"column\": \"Open\",\n      \"properties\": {\n        \"dtype\": \"number\",\n        \"std\": 196.70444181467948,\n        \"min\": 1271.6,\n        \"max\": 2399.1,\n        \"num_unique_values\": 1119,\n        \"samples\": [\n          2022.1,\n          1963.0,\n          1480.6\n        ],\n        \"semantic_type\": \"\",\n        \"description\": \"\"\n      }\n    },\n    {\n      \"column\": \"High\",\n      \"properties\": {\n        \"dtype\": \"number\",\n        \"std\": 198.46134817581486,\n        \"min\": 1277.1,\n        \"max\": 2448.8,\n        \"num_unique_values\": 1135,\n        \"samples\": [\n          1913.8,\n          1725.0,\n          1774.4\n        ],\n        \"semantic_type\": \"\",\n        \"description\": \"\"\n      }\n    },\n    {\n      \"column\": \"Low\",\n      \"properties\": {\n        \"dtype\": \"number\",\n        \"std\": 195.0191734793033,\n        \"min\": 1267.3,\n        \"max\": 2379.2,\n        \"num_unique_values\": 1120,\n        \"samples\": [\n          2016.5,\n          1938.8,\n          1481.2\n        ],\n        \"semantic_type\": \"\",\n        \"description\": \"\"\n      }\n    }\n  ]\n}"
            }
          },
          "metadata": {},
          "execution_count": 4
        }
      ]
    },
    {
      "cell_type": "code",
      "source": [
        "data.head()"
      ],
      "metadata": {
        "colab": {
          "base_uri": "https://localhost:8080/",
          "height": 206
        },
        "id": "MenT7xmxMBuL",
        "outputId": "f65deeaf-13a0-45d3-873f-96c93db17dca"
      },
      "execution_count": null,
      "outputs": [
        {
          "output_type": "execute_result",
          "data": {
            "text/plain": [
              "         Date  Close/Last    Volume    Open    High     Low\n",
              "0  04/18/2024      2398.0  195493.0  2377.9  2408.0  2377.2\n",
              "1  04/17/2024      2388.4  279551.0  2398.0  2412.0  2370.7\n",
              "2  04/16/2024      2407.8  290700.0  2399.1  2414.8  2379.2\n",
              "3  04/15/2024      2383.0  336608.0  2369.4  2404.3  2340.2\n",
              "4  04/12/2024      2374.1  463075.0  2389.4  2448.8  2350.6"
            ],
            "text/html": [
              "\n",
              "  <div id=\"df-8f20892d-f146-4c8b-b869-a37cfe6f52c0\" class=\"colab-df-container\">\n",
              "    <div>\n",
              "<style scoped>\n",
              "    .dataframe tbody tr th:only-of-type {\n",
              "        vertical-align: middle;\n",
              "    }\n",
              "\n",
              "    .dataframe tbody tr th {\n",
              "        vertical-align: top;\n",
              "    }\n",
              "\n",
              "    .dataframe thead th {\n",
              "        text-align: right;\n",
              "    }\n",
              "</style>\n",
              "<table border=\"1\" class=\"dataframe\">\n",
              "  <thead>\n",
              "    <tr style=\"text-align: right;\">\n",
              "      <th></th>\n",
              "      <th>Date</th>\n",
              "      <th>Close/Last</th>\n",
              "      <th>Volume</th>\n",
              "      <th>Open</th>\n",
              "      <th>High</th>\n",
              "      <th>Low</th>\n",
              "    </tr>\n",
              "  </thead>\n",
              "  <tbody>\n",
              "    <tr>\n",
              "      <th>0</th>\n",
              "      <td>04/18/2024</td>\n",
              "      <td>2398.0</td>\n",
              "      <td>195493.0</td>\n",
              "      <td>2377.9</td>\n",
              "      <td>2408.0</td>\n",
              "      <td>2377.2</td>\n",
              "    </tr>\n",
              "    <tr>\n",
              "      <th>1</th>\n",
              "      <td>04/17/2024</td>\n",
              "      <td>2388.4</td>\n",
              "      <td>279551.0</td>\n",
              "      <td>2398.0</td>\n",
              "      <td>2412.0</td>\n",
              "      <td>2370.7</td>\n",
              "    </tr>\n",
              "    <tr>\n",
              "      <th>2</th>\n",
              "      <td>04/16/2024</td>\n",
              "      <td>2407.8</td>\n",
              "      <td>290700.0</td>\n",
              "      <td>2399.1</td>\n",
              "      <td>2414.8</td>\n",
              "      <td>2379.2</td>\n",
              "    </tr>\n",
              "    <tr>\n",
              "      <th>3</th>\n",
              "      <td>04/15/2024</td>\n",
              "      <td>2383.0</td>\n",
              "      <td>336608.0</td>\n",
              "      <td>2369.4</td>\n",
              "      <td>2404.3</td>\n",
              "      <td>2340.2</td>\n",
              "    </tr>\n",
              "    <tr>\n",
              "      <th>4</th>\n",
              "      <td>04/12/2024</td>\n",
              "      <td>2374.1</td>\n",
              "      <td>463075.0</td>\n",
              "      <td>2389.4</td>\n",
              "      <td>2448.8</td>\n",
              "      <td>2350.6</td>\n",
              "    </tr>\n",
              "  </tbody>\n",
              "</table>\n",
              "</div>\n",
              "    <div class=\"colab-df-buttons\">\n",
              "\n",
              "  <div class=\"colab-df-container\">\n",
              "    <button class=\"colab-df-convert\" onclick=\"convertToInteractive('df-8f20892d-f146-4c8b-b869-a37cfe6f52c0')\"\n",
              "            title=\"Convert this dataframe to an interactive table.\"\n",
              "            style=\"display:none;\">\n",
              "\n",
              "  <svg xmlns=\"http://www.w3.org/2000/svg\" height=\"24px\" viewBox=\"0 -960 960 960\">\n",
              "    <path d=\"M120-120v-720h720v720H120Zm60-500h600v-160H180v160Zm220 220h160v-160H400v160Zm0 220h160v-160H400v160ZM180-400h160v-160H180v160Zm440 0h160v-160H620v160ZM180-180h160v-160H180v160Zm440 0h160v-160H620v160Z\"/>\n",
              "  </svg>\n",
              "    </button>\n",
              "\n",
              "  <style>\n",
              "    .colab-df-container {\n",
              "      display:flex;\n",
              "      gap: 12px;\n",
              "    }\n",
              "\n",
              "    .colab-df-convert {\n",
              "      background-color: #E8F0FE;\n",
              "      border: none;\n",
              "      border-radius: 50%;\n",
              "      cursor: pointer;\n",
              "      display: none;\n",
              "      fill: #1967D2;\n",
              "      height: 32px;\n",
              "      padding: 0 0 0 0;\n",
              "      width: 32px;\n",
              "    }\n",
              "\n",
              "    .colab-df-convert:hover {\n",
              "      background-color: #E2EBFA;\n",
              "      box-shadow: 0px 1px 2px rgba(60, 64, 67, 0.3), 0px 1px 3px 1px rgba(60, 64, 67, 0.15);\n",
              "      fill: #174EA6;\n",
              "    }\n",
              "\n",
              "    .colab-df-buttons div {\n",
              "      margin-bottom: 4px;\n",
              "    }\n",
              "\n",
              "    [theme=dark] .colab-df-convert {\n",
              "      background-color: #3B4455;\n",
              "      fill: #D2E3FC;\n",
              "    }\n",
              "\n",
              "    [theme=dark] .colab-df-convert:hover {\n",
              "      background-color: #434B5C;\n",
              "      box-shadow: 0px 1px 3px 1px rgba(0, 0, 0, 0.15);\n",
              "      filter: drop-shadow(0px 1px 2px rgba(0, 0, 0, 0.3));\n",
              "      fill: #FFFFFF;\n",
              "    }\n",
              "  </style>\n",
              "\n",
              "    <script>\n",
              "      const buttonEl =\n",
              "        document.querySelector('#df-8f20892d-f146-4c8b-b869-a37cfe6f52c0 button.colab-df-convert');\n",
              "      buttonEl.style.display =\n",
              "        google.colab.kernel.accessAllowed ? 'block' : 'none';\n",
              "\n",
              "      async function convertToInteractive(key) {\n",
              "        const element = document.querySelector('#df-8f20892d-f146-4c8b-b869-a37cfe6f52c0');\n",
              "        const dataTable =\n",
              "          await google.colab.kernel.invokeFunction('convertToInteractive',\n",
              "                                                    [key], {});\n",
              "        if (!dataTable) return;\n",
              "\n",
              "        const docLinkHtml = 'Like what you see? Visit the ' +\n",
              "          '<a target=\"_blank\" href=https://colab.research.google.com/notebooks/data_table.ipynb>data table notebook</a>'\n",
              "          + ' to learn more about interactive tables.';\n",
              "        element.innerHTML = '';\n",
              "        dataTable['output_type'] = 'display_data';\n",
              "        await google.colab.output.renderOutput(dataTable, element);\n",
              "        const docLink = document.createElement('div');\n",
              "        docLink.innerHTML = docLinkHtml;\n",
              "        element.appendChild(docLink);\n",
              "      }\n",
              "    </script>\n",
              "  </div>\n",
              "\n",
              "\n",
              "<div id=\"df-6a354ce7-932f-46a0-b133-5116f293de4a\">\n",
              "  <button class=\"colab-df-quickchart\" onclick=\"quickchart('df-6a354ce7-932f-46a0-b133-5116f293de4a')\"\n",
              "            title=\"Suggest charts\"\n",
              "            style=\"display:none;\">\n",
              "\n",
              "<svg xmlns=\"http://www.w3.org/2000/svg\" height=\"24px\"viewBox=\"0 0 24 24\"\n",
              "     width=\"24px\">\n",
              "    <g>\n",
              "        <path d=\"M19 3H5c-1.1 0-2 .9-2 2v14c0 1.1.9 2 2 2h14c1.1 0 2-.9 2-2V5c0-1.1-.9-2-2-2zM9 17H7v-7h2v7zm4 0h-2V7h2v10zm4 0h-2v-4h2v4z\"/>\n",
              "    </g>\n",
              "</svg>\n",
              "  </button>\n",
              "\n",
              "<style>\n",
              "  .colab-df-quickchart {\n",
              "      --bg-color: #E8F0FE;\n",
              "      --fill-color: #1967D2;\n",
              "      --hover-bg-color: #E2EBFA;\n",
              "      --hover-fill-color: #174EA6;\n",
              "      --disabled-fill-color: #AAA;\n",
              "      --disabled-bg-color: #DDD;\n",
              "  }\n",
              "\n",
              "  [theme=dark] .colab-df-quickchart {\n",
              "      --bg-color: #3B4455;\n",
              "      --fill-color: #D2E3FC;\n",
              "      --hover-bg-color: #434B5C;\n",
              "      --hover-fill-color: #FFFFFF;\n",
              "      --disabled-bg-color: #3B4455;\n",
              "      --disabled-fill-color: #666;\n",
              "  }\n",
              "\n",
              "  .colab-df-quickchart {\n",
              "    background-color: var(--bg-color);\n",
              "    border: none;\n",
              "    border-radius: 50%;\n",
              "    cursor: pointer;\n",
              "    display: none;\n",
              "    fill: var(--fill-color);\n",
              "    height: 32px;\n",
              "    padding: 0;\n",
              "    width: 32px;\n",
              "  }\n",
              "\n",
              "  .colab-df-quickchart:hover {\n",
              "    background-color: var(--hover-bg-color);\n",
              "    box-shadow: 0 1px 2px rgba(60, 64, 67, 0.3), 0 1px 3px 1px rgba(60, 64, 67, 0.15);\n",
              "    fill: var(--button-hover-fill-color);\n",
              "  }\n",
              "\n",
              "  .colab-df-quickchart-complete:disabled,\n",
              "  .colab-df-quickchart-complete:disabled:hover {\n",
              "    background-color: var(--disabled-bg-color);\n",
              "    fill: var(--disabled-fill-color);\n",
              "    box-shadow: none;\n",
              "  }\n",
              "\n",
              "  .colab-df-spinner {\n",
              "    border: 2px solid var(--fill-color);\n",
              "    border-color: transparent;\n",
              "    border-bottom-color: var(--fill-color);\n",
              "    animation:\n",
              "      spin 1s steps(1) infinite;\n",
              "  }\n",
              "\n",
              "  @keyframes spin {\n",
              "    0% {\n",
              "      border-color: transparent;\n",
              "      border-bottom-color: var(--fill-color);\n",
              "      border-left-color: var(--fill-color);\n",
              "    }\n",
              "    20% {\n",
              "      border-color: transparent;\n",
              "      border-left-color: var(--fill-color);\n",
              "      border-top-color: var(--fill-color);\n",
              "    }\n",
              "    30% {\n",
              "      border-color: transparent;\n",
              "      border-left-color: var(--fill-color);\n",
              "      border-top-color: var(--fill-color);\n",
              "      border-right-color: var(--fill-color);\n",
              "    }\n",
              "    40% {\n",
              "      border-color: transparent;\n",
              "      border-right-color: var(--fill-color);\n",
              "      border-top-color: var(--fill-color);\n",
              "    }\n",
              "    60% {\n",
              "      border-color: transparent;\n",
              "      border-right-color: var(--fill-color);\n",
              "    }\n",
              "    80% {\n",
              "      border-color: transparent;\n",
              "      border-right-color: var(--fill-color);\n",
              "      border-bottom-color: var(--fill-color);\n",
              "    }\n",
              "    90% {\n",
              "      border-color: transparent;\n",
              "      border-bottom-color: var(--fill-color);\n",
              "    }\n",
              "  }\n",
              "</style>\n",
              "\n",
              "  <script>\n",
              "    async function quickchart(key) {\n",
              "      const quickchartButtonEl =\n",
              "        document.querySelector('#' + key + ' button');\n",
              "      quickchartButtonEl.disabled = true;  // To prevent multiple clicks.\n",
              "      quickchartButtonEl.classList.add('colab-df-spinner');\n",
              "      try {\n",
              "        const charts = await google.colab.kernel.invokeFunction(\n",
              "            'suggestCharts', [key], {});\n",
              "      } catch (error) {\n",
              "        console.error('Error during call to suggestCharts:', error);\n",
              "      }\n",
              "      quickchartButtonEl.classList.remove('colab-df-spinner');\n",
              "      quickchartButtonEl.classList.add('colab-df-quickchart-complete');\n",
              "    }\n",
              "    (() => {\n",
              "      let quickchartButtonEl =\n",
              "        document.querySelector('#df-6a354ce7-932f-46a0-b133-5116f293de4a button');\n",
              "      quickchartButtonEl.style.display =\n",
              "        google.colab.kernel.accessAllowed ? 'block' : 'none';\n",
              "    })();\n",
              "  </script>\n",
              "</div>\n",
              "\n",
              "    </div>\n",
              "  </div>\n"
            ],
            "application/vnd.google.colaboratory.intrinsic+json": {
              "type": "dataframe",
              "variable_name": "data",
              "summary": "{\n  \"name\": \"data\",\n  \"rows\": 1258,\n  \"fields\": [\n    {\n      \"column\": \"Date\",\n      \"properties\": {\n        \"dtype\": \"object\",\n        \"num_unique_values\": 1258,\n        \"samples\": [\n          \"01/24/2022\",\n          \"11/21/2023\",\n          \"02/05/2024\"\n        ],\n        \"semantic_type\": \"\",\n        \"description\": \"\"\n      }\n    },\n    {\n      \"column\": \"Close/Last\",\n      \"properties\": {\n        \"dtype\": \"number\",\n        \"std\": 196.49399716790805,\n        \"min\": 1272.0,\n        \"max\": 2407.8,\n        \"num_unique_values\": 1135,\n        \"samples\": [\n          1951.7,\n          1768.9,\n          1769.2\n        ],\n        \"semantic_type\": \"\",\n        \"description\": \"\"\n      }\n    },\n    {\n      \"column\": \"Volume\",\n      \"properties\": {\n        \"dtype\": \"number\",\n        \"std\": 104763.78017599476,\n        \"min\": 1.0,\n        \"max\": 787217.0,\n        \"num_unique_values\": 1248,\n        \"samples\": [\n          157414.0,\n          260044.0,\n          196763.0\n        ],\n        \"semantic_type\": \"\",\n        \"description\": \"\"\n      }\n    },\n    {\n      \"column\": \"Open\",\n      \"properties\": {\n        \"dtype\": \"number\",\n        \"std\": 196.70444181467948,\n        \"min\": 1271.6,\n        \"max\": 2399.1,\n        \"num_unique_values\": 1119,\n        \"samples\": [\n          2022.1,\n          1963.0,\n          1480.6\n        ],\n        \"semantic_type\": \"\",\n        \"description\": \"\"\n      }\n    },\n    {\n      \"column\": \"High\",\n      \"properties\": {\n        \"dtype\": \"number\",\n        \"std\": 198.46134817581486,\n        \"min\": 1277.1,\n        \"max\": 2448.8,\n        \"num_unique_values\": 1135,\n        \"samples\": [\n          1913.8,\n          1725.0,\n          1774.4\n        ],\n        \"semantic_type\": \"\",\n        \"description\": \"\"\n      }\n    },\n    {\n      \"column\": \"Low\",\n      \"properties\": {\n        \"dtype\": \"number\",\n        \"std\": 195.0191734793033,\n        \"min\": 1267.3,\n        \"max\": 2379.2,\n        \"num_unique_values\": 1120,\n        \"samples\": [\n          2016.5,\n          1938.8,\n          1481.2\n        ],\n        \"semantic_type\": \"\",\n        \"description\": \"\"\n      }\n    }\n  ]\n}"
            }
          },
          "metadata": {},
          "execution_count": 5
        }
      ]
    },
    {
      "cell_type": "code",
      "source": [
        "data.info()"
      ],
      "metadata": {
        "colab": {
          "base_uri": "https://localhost:8080/"
        },
        "id": "dQVgwqlwL2Fp",
        "outputId": "f28323e4-ce57-43bf-8daf-0c2e666aaf62"
      },
      "execution_count": null,
      "outputs": [
        {
          "output_type": "stream",
          "name": "stdout",
          "text": [
            "<class 'pandas.core.frame.DataFrame'>\n",
            "RangeIndex: 1258 entries, 0 to 1257\n",
            "Data columns (total 6 columns):\n",
            " #   Column      Non-Null Count  Dtype  \n",
            "---  ------      --------------  -----  \n",
            " 0   Date        1258 non-null   object \n",
            " 1   Close/Last  1258 non-null   float64\n",
            " 2   Volume      1254 non-null   float64\n",
            " 3   Open        1258 non-null   float64\n",
            " 4   High        1258 non-null   float64\n",
            " 5   Low         1258 non-null   float64\n",
            "dtypes: float64(5), object(1)\n",
            "memory usage: 59.1+ KB\n"
          ]
        }
      ]
    },
    {
      "cell_type": "code",
      "source": [
        "data.isnull().sum()"
      ],
      "metadata": {
        "colab": {
          "base_uri": "https://localhost:8080/"
        },
        "id": "x0_B3fSIL9ay",
        "outputId": "425604a4-908a-438f-e06b-6a4f516993ea"
      },
      "execution_count": null,
      "outputs": [
        {
          "output_type": "execute_result",
          "data": {
            "text/plain": [
              "Date          0\n",
              "Close/Last    0\n",
              "Volume        4\n",
              "Open          0\n",
              "High          0\n",
              "Low           0\n",
              "dtype: int64"
            ]
          },
          "metadata": {},
          "execution_count": 7
        }
      ]
    },
    {
      "cell_type": "code",
      "source": [
        "data=data.dropna()"
      ],
      "metadata": {
        "id": "DutQ6z66MJHn"
      },
      "execution_count": null,
      "outputs": []
    },
    {
      "cell_type": "code",
      "source": [
        "data.isnull().sum()"
      ],
      "metadata": {
        "colab": {
          "base_uri": "https://localhost:8080/"
        },
        "id": "47Q4byGPMi39",
        "outputId": "604aa868-3c4c-429c-ce35-092a2272aa20"
      },
      "execution_count": null,
      "outputs": [
        {
          "output_type": "execute_result",
          "data": {
            "text/plain": [
              "Date          0\n",
              "Close/Last    0\n",
              "Volume        0\n",
              "Open          0\n",
              "High          0\n",
              "Low           0\n",
              "dtype: int64"
            ]
          },
          "metadata": {},
          "execution_count": 9
        }
      ]
    },
    {
      "cell_type": "code",
      "source": [
        "data.info()"
      ],
      "metadata": {
        "colab": {
          "base_uri": "https://localhost:8080/"
        },
        "id": "cdHtk3NtMlcN",
        "outputId": "4546422e-0809-41f7-cbb4-8389e51773c5"
      },
      "execution_count": null,
      "outputs": [
        {
          "output_type": "stream",
          "name": "stdout",
          "text": [
            "<class 'pandas.core.frame.DataFrame'>\n",
            "Index: 1254 entries, 0 to 1257\n",
            "Data columns (total 6 columns):\n",
            " #   Column      Non-Null Count  Dtype  \n",
            "---  ------      --------------  -----  \n",
            " 0   Date        1254 non-null   object \n",
            " 1   Close/Last  1254 non-null   float64\n",
            " 2   Volume      1254 non-null   float64\n",
            " 3   Open        1254 non-null   float64\n",
            " 4   High        1254 non-null   float64\n",
            " 5   Low         1254 non-null   float64\n",
            "dtypes: float64(5), object(1)\n",
            "memory usage: 68.6+ KB\n"
          ]
        }
      ]
    },
    {
      "cell_type": "code",
      "source": [
        "data1=data.iloc[:,3:4].values"
      ],
      "metadata": {
        "id": "JoTyQZxbMp9Z"
      },
      "execution_count": null,
      "outputs": []
    },
    {
      "cell_type": "code",
      "source": [
        "train_data=data1[:int(len(data1)*0.75)]\n",
        "test_data=data1[len(train_data):]"
      ],
      "metadata": {
        "id": "AUWF1OlYRw0F"
      },
      "execution_count": null,
      "outputs": []
    },
    {
      "cell_type": "code",
      "source": [
        "#train_data"
      ],
      "metadata": {
        "id": "NS_ADdtVOH2P"
      },
      "execution_count": null,
      "outputs": []
    },
    {
      "cell_type": "code",
      "source": [
        "#test_data"
      ],
      "metadata": {
        "id": "hETPIs5hS_VQ"
      },
      "execution_count": null,
      "outputs": []
    },
    {
      "cell_type": "code",
      "source": [
        "train_data=train_data.reshape(-1,1)"
      ],
      "metadata": {
        "id": "EAKm0AddOSNg"
      },
      "execution_count": null,
      "outputs": []
    },
    {
      "cell_type": "code",
      "source": [
        "test_data=test_data.reshape(-1,1)"
      ],
      "metadata": {
        "id": "9LdC0WFVTDNm"
      },
      "execution_count": null,
      "outputs": []
    },
    {
      "cell_type": "code",
      "source": [
        "#train_data"
      ],
      "metadata": {
        "id": "mPevx85nOlCC"
      },
      "execution_count": null,
      "outputs": []
    },
    {
      "cell_type": "code",
      "source": [
        "scale = MinMaxScaler()\n",
        "scaled_train=scale.fit_transform(train_data)"
      ],
      "metadata": {
        "id": "IofvDUe7OmPc"
      },
      "execution_count": null,
      "outputs": []
    },
    {
      "cell_type": "code",
      "source": [
        "\n",
        "scale = MinMaxScaler()\n",
        "scaled_test=scale.fit_transform(test_data)"
      ],
      "metadata": {
        "id": "7cb7TLFMS79t"
      },
      "execution_count": null,
      "outputs": []
    },
    {
      "cell_type": "code",
      "source": [
        "#scaled_train"
      ],
      "metadata": {
        "id": "CRNPWVLQPC-0"
      },
      "execution_count": null,
      "outputs": []
    },
    {
      "cell_type": "code",
      "source": [
        "X_train=[]\n",
        "y_train=[]\n",
        "\n",
        "for i in range(50,len(scaled_train)):\n",
        "  X_train.append(scaled_train[i-50:i,0])\n",
        "  y_train.append(scaled_train[i,0])\n",
        "\n",
        "X_train=np.array(X_train)\n",
        "y_train=np.array(y_train)"
      ],
      "metadata": {
        "id": "Va01FnaPPCHt"
      },
      "execution_count": null,
      "outputs": []
    },
    {
      "cell_type": "code",
      "source": [
        "\n",
        "\n",
        "X_test=[]\n",
        "y_test=[]\n",
        "\n",
        "for i in range(50,len(scaled_test)):\n",
        "  X_test.append(scaled_test[i-50:i,0])\n",
        "  y_test.append(scaled_test[i,0])\n",
        "\n",
        "X_test=np.array(X_test)\n",
        "y_test=np.array(y_test)"
      ],
      "metadata": {
        "id": "_dnIt7dVTkGb"
      },
      "execution_count": null,
      "outputs": []
    },
    {
      "cell_type": "code",
      "source": [
        "X_train\n"
      ],
      "metadata": {
        "colab": {
          "base_uri": "https://localhost:8080/"
        },
        "id": "dQ8LHKB_QGqy",
        "outputId": "ef845e8e-7857-4ff3-b115-c3ea391a2289"
      },
      "execution_count": null,
      "outputs": [
        {
          "output_type": "execute_result",
          "data": {
            "text/plain": [
              "array([[0.97246396, 0.99857124, 1.        , ..., 0.54617483, 0.54786336,\n",
              "        0.54994155],\n",
              "       [0.99857124, 1.        , 0.96142356, ..., 0.54786336, 0.54994155,\n",
              "        0.53539421],\n",
              "       [1.        , 0.96142356, 0.98740096, ..., 0.54994155, 0.53539421,\n",
              "        0.55682556],\n",
              "       ...,\n",
              "       [0.36602156, 0.34030394, 0.35589038, ..., 0.43382257, 0.38940122,\n",
              "        0.33212105],\n",
              "       [0.34030394, 0.35589038, 0.33406936, ..., 0.38940122, 0.33212105,\n",
              "        0.31484608],\n",
              "       [0.35589038, 0.33406936, 0.30328614, ..., 0.33212105, 0.31484608,\n",
              "        0.27743863]])"
            ]
          },
          "metadata": {},
          "execution_count": 23
        }
      ]
    },
    {
      "cell_type": "code",
      "source": [
        "\n",
        "X_train.shape"
      ],
      "metadata": {
        "colab": {
          "base_uri": "https://localhost:8080/"
        },
        "id": "fr_9HV-VQe9c",
        "outputId": "87f83bcb-1edd-45f8-881c-8f32712200ae"
      },
      "execution_count": null,
      "outputs": [
        {
          "output_type": "execute_result",
          "data": {
            "text/plain": [
              "(890, 50)"
            ]
          },
          "metadata": {},
          "execution_count": 24
        }
      ]
    },
    {
      "cell_type": "code",
      "source": [
        "y_train.shape"
      ],
      "metadata": {
        "colab": {
          "base_uri": "https://localhost:8080/"
        },
        "id": "SD0DUqhbQpiV",
        "outputId": "c4bc8056-d169-449b-9f34-08174ab0d7ca"
      },
      "execution_count": null,
      "outputs": [
        {
          "output_type": "execute_result",
          "data": {
            "text/plain": [
              "(890,)"
            ]
          },
          "metadata": {},
          "execution_count": 25
        }
      ]
    },
    {
      "cell_type": "code",
      "source": [
        "X_test.shape\n"
      ],
      "metadata": {
        "colab": {
          "base_uri": "https://localhost:8080/"
        },
        "id": "X4Eoq0UGQrvE",
        "outputId": "f1f2c8bb-5335-4fd2-f5ff-06a905cb2b8f"
      },
      "execution_count": null,
      "outputs": [
        {
          "output_type": "execute_result",
          "data": {
            "text/plain": [
              "(264, 50)"
            ]
          },
          "metadata": {},
          "execution_count": 26
        }
      ]
    },
    {
      "cell_type": "code",
      "source": [
        "\n",
        "y_test.shape"
      ],
      "metadata": {
        "colab": {
          "base_uri": "https://localhost:8080/"
        },
        "id": "px6iif54UQTY",
        "outputId": "8803cf7b-28f6-491f-ba70-7d166b0a99c4"
      },
      "execution_count": null,
      "outputs": [
        {
          "output_type": "execute_result",
          "data": {
            "text/plain": [
              "(264,)"
            ]
          },
          "metadata": {},
          "execution_count": 27
        }
      ]
    },
    {
      "cell_type": "code",
      "source": [
        "\n",
        "model = keras.Sequential([\n",
        "    keras.layers.GRU(200, activation=\"tanh\", input_shape=(50, 1), return_sequences=False),\n",
        "    keras.layers.Dense(100, activation=\"relu\"),\n",
        "    keras.layers.Dropout(0.2),\n",
        "    keras.layers.Dense(1, activation=\"linear\")\n",
        "])"
      ],
      "metadata": {
        "id": "iLk4r6aMUSZm"
      },
      "execution_count": null,
      "outputs": []
    },
    {
      "cell_type": "code",
      "source": [
        "model.compile(optimizer=\"adam\", loss=\"mse\",metrics=\"accuracy\")"
      ],
      "metadata": {
        "id": "IaY3gQaUUfjn"
      },
      "execution_count": null,
      "outputs": []
    },
    {
      "cell_type": "code",
      "source": [
        "model.fit(X_train, y_train, epochs=50, batch_size=32)"
      ],
      "metadata": {
        "colab": {
          "base_uri": "https://localhost:8080/"
        },
        "id": "DOpddA8bUgSq",
        "outputId": "1f288113-a1dc-4bc9-9c5d-72f6401e00b4"
      },
      "execution_count": null,
      "outputs": [
        {
          "output_type": "stream",
          "name": "stdout",
          "text": [
            "Epoch 1/50\n",
            "28/28 [==============================] - 6s 96ms/step - loss: 0.0165 - accuracy: 0.0011\n",
            "Epoch 2/50\n",
            "28/28 [==============================] - 3s 96ms/step - loss: 0.0027 - accuracy: 0.0011\n",
            "Epoch 3/50\n",
            "28/28 [==============================] - 4s 128ms/step - loss: 0.0021 - accuracy: 0.0011\n",
            "Epoch 4/50\n",
            "28/28 [==============================] - 4s 139ms/step - loss: 0.0021 - accuracy: 0.0011\n",
            "Epoch 5/50\n",
            "28/28 [==============================] - 3s 97ms/step - loss: 0.0019 - accuracy: 0.0011\n",
            "Epoch 6/50\n",
            "28/28 [==============================] - 3s 96ms/step - loss: 0.0018 - accuracy: 0.0011\n",
            "Epoch 7/50\n",
            "28/28 [==============================] - 3s 103ms/step - loss: 0.0015 - accuracy: 0.0011\n",
            "Epoch 8/50\n",
            "28/28 [==============================] - 4s 145ms/step - loss: 0.0015 - accuracy: 0.0011\n",
            "Epoch 9/50\n",
            "28/28 [==============================] - 4s 127ms/step - loss: 0.0017 - accuracy: 0.0011\n",
            "Epoch 10/50\n",
            "28/28 [==============================] - 3s 101ms/step - loss: 0.0015 - accuracy: 0.0011\n",
            "Epoch 11/50\n",
            "28/28 [==============================] - 3s 93ms/step - loss: 0.0016 - accuracy: 0.0011\n",
            "Epoch 12/50\n",
            "28/28 [==============================] - 3s 107ms/step - loss: 0.0014 - accuracy: 0.0011\n",
            "Epoch 13/50\n",
            "28/28 [==============================] - 5s 165ms/step - loss: 0.0015 - accuracy: 0.0011\n",
            "Epoch 14/50\n",
            "28/28 [==============================] - 3s 96ms/step - loss: 0.0016 - accuracy: 0.0011\n",
            "Epoch 15/50\n",
            "28/28 [==============================] - 3s 95ms/step - loss: 0.0016 - accuracy: 0.0011\n",
            "Epoch 16/50\n",
            "28/28 [==============================] - 3s 98ms/step - loss: 0.0015 - accuracy: 0.0011\n",
            "Epoch 17/50\n",
            "28/28 [==============================] - 4s 145ms/step - loss: 0.0013 - accuracy: 0.0011\n",
            "Epoch 18/50\n",
            "28/28 [==============================] - 4s 130ms/step - loss: 0.0015 - accuracy: 0.0011\n",
            "Epoch 19/50\n",
            "28/28 [==============================] - 3s 94ms/step - loss: 0.0015 - accuracy: 0.0011\n",
            "Epoch 20/50\n",
            "28/28 [==============================] - 3s 98ms/step - loss: 0.0012 - accuracy: 0.0011\n",
            "Epoch 21/50\n",
            "28/28 [==============================] - 3s 100ms/step - loss: 0.0014 - accuracy: 0.0011\n",
            "Epoch 22/50\n",
            "28/28 [==============================] - 5s 168ms/step - loss: 0.0012 - accuracy: 0.0011\n",
            "Epoch 23/50\n",
            "28/28 [==============================] - 3s 107ms/step - loss: 0.0012 - accuracy: 0.0011\n",
            "Epoch 24/50\n",
            "28/28 [==============================] - 3s 96ms/step - loss: 0.0014 - accuracy: 0.0011\n",
            "Epoch 25/50\n",
            "28/28 [==============================] - 3s 95ms/step - loss: 0.0013 - accuracy: 0.0011\n",
            "Epoch 26/50\n",
            "28/28 [==============================] - 3s 98ms/step - loss: 0.0013 - accuracy: 0.0011\n",
            "Epoch 27/50\n",
            "28/28 [==============================] - 5s 163ms/step - loss: 0.0013 - accuracy: 0.0011\n",
            "Epoch 28/50\n",
            "28/28 [==============================] - 3s 97ms/step - loss: 0.0012 - accuracy: 0.0011\n",
            "Epoch 29/50\n",
            "28/28 [==============================] - 3s 94ms/step - loss: 0.0012 - accuracy: 0.0011\n",
            "Epoch 30/50\n",
            "28/28 [==============================] - 3s 92ms/step - loss: 0.0012 - accuracy: 0.0011\n",
            "Epoch 31/50\n",
            "28/28 [==============================] - 3s 115ms/step - loss: 0.0013 - accuracy: 0.0011\n",
            "Epoch 32/50\n",
            "28/28 [==============================] - 4s 152ms/step - loss: 0.0012 - accuracy: 0.0011\n",
            "Epoch 33/50\n",
            "28/28 [==============================] - 3s 91ms/step - loss: 0.0012 - accuracy: 0.0011\n",
            "Epoch 34/50\n",
            "28/28 [==============================] - 3s 97ms/step - loss: 0.0011 - accuracy: 0.0011\n",
            "Epoch 35/50\n",
            "28/28 [==============================] - 3s 97ms/step - loss: 0.0011 - accuracy: 0.0011\n",
            "Epoch 36/50\n",
            "28/28 [==============================] - 4s 129ms/step - loss: 0.0011 - accuracy: 0.0011\n",
            "Epoch 37/50\n",
            "28/28 [==============================] - 3s 116ms/step - loss: 0.0012 - accuracy: 0.0011\n",
            "Epoch 38/50\n",
            "28/28 [==============================] - 2s 78ms/step - loss: 0.0011 - accuracy: 0.0011\n",
            "Epoch 39/50\n",
            "28/28 [==============================] - 2s 81ms/step - loss: 0.0011 - accuracy: 0.0011\n",
            "Epoch 40/50\n",
            "28/28 [==============================] - 2s 78ms/step - loss: 0.0011 - accuracy: 0.0011\n",
            "Epoch 41/50\n",
            "28/28 [==============================] - 2s 80ms/step - loss: 0.0010 - accuracy: 0.0011\n",
            "Epoch 42/50\n",
            "28/28 [==============================] - 4s 134ms/step - loss: 0.0010 - accuracy: 0.0011\n",
            "Epoch 43/50\n",
            "28/28 [==============================] - 3s 94ms/step - loss: 0.0011 - accuracy: 0.0011\n",
            "Epoch 44/50\n",
            "28/28 [==============================] - 2s 78ms/step - loss: 0.0012 - accuracy: 0.0011\n",
            "Epoch 45/50\n",
            "28/28 [==============================] - 2s 80ms/step - loss: 9.5917e-04 - accuracy: 0.0011\n",
            "Epoch 46/50\n",
            "28/28 [==============================] - 2s 79ms/step - loss: 0.0011 - accuracy: 0.0011\n",
            "Epoch 47/50\n",
            "28/28 [==============================] - 2s 90ms/step - loss: 0.0011 - accuracy: 0.0011\n",
            "Epoch 48/50\n",
            "28/28 [==============================] - 4s 137ms/step - loss: 9.6454e-04 - accuracy: 0.0011\n",
            "Epoch 49/50\n",
            "28/28 [==============================] - 2s 80ms/step - loss: 9.6426e-04 - accuracy: 0.0011\n",
            "Epoch 50/50\n",
            "28/28 [==============================] - 2s 79ms/step - loss: 0.0011 - accuracy: 0.0011\n"
          ]
        },
        {
          "output_type": "execute_result",
          "data": {
            "text/plain": [
              "<keras.src.callbacks.History at 0x79aabc2eb430>"
            ]
          },
          "metadata": {},
          "execution_count": 30
        }
      ]
    },
    {
      "cell_type": "code",
      "source": [
        "model.evaluate(X_test,y_test)"
      ],
      "metadata": {
        "colab": {
          "base_uri": "https://localhost:8080/"
        },
        "id": "DJSr3pLjVAY-",
        "outputId": "2c2b0e49-7195-4b56-913a-509409f5f360"
      },
      "execution_count": null,
      "outputs": [
        {
          "output_type": "stream",
          "name": "stdout",
          "text": [
            "9/9 [==============================] - 1s 25ms/step - loss: 0.0014 - accuracy: 0.0038\n"
          ]
        },
        {
          "output_type": "execute_result",
          "data": {
            "text/plain": [
              "[0.001443946035578847, 0.0037878789007663727]"
            ]
          },
          "metadata": {},
          "execution_count": 31
        }
      ]
    },
    {
      "cell_type": "code",
      "source": [],
      "metadata": {
        "id": "xFiOApVWVELU"
      },
      "execution_count": null,
      "outputs": []
    }
  ]
}